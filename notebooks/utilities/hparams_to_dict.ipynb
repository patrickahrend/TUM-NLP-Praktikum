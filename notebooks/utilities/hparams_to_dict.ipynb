{
 "cells": [
  {
   "cell_type": "code",
   "execution_count": 6,
   "metadata": {
    "ExecuteTime": {
     "end_time": "2024-01-26T16:03:43.616951Z",
     "start_time": "2024-01-26T16:03:42.742917Z"
    }
   },
   "outputs": [],
   "source": [
    "import json\n",
    "\n",
    "import pandas as pd\n",
    "from pathlib import Path"
   ]
  },
  {
   "cell_type": "code",
   "outputs": [],
   "source": [
    "from pathlib import Path\n",
    "\n",
    "project_dir = Path(Path.cwd()).resolve().parents[2]\n",
    "\n",
    "df = pd.read_csv(\n",
    "    project_dir /\"data/processed/hyperparameters/hyperparameter_tuning_results.csv\")"
   ],
   "metadata": {
    "collapsed": false,
    "ExecuteTime": {
     "end_time": "2024-01-26T16:01:11.739705Z",
     "start_time": "2024-01-26T16:01:11.144159Z"
    }
   },
   "execution_count": 2
  },
  {
   "cell_type": "code",
   "outputs": [
    {
     "data": {
      "text/plain": "                         model   data  \\\n0          Logistic_Regression    gpt   \n1       RandomForestClassifier    gpt   \n2                   GaussianNB    gpt   \n3       DecisionTreeClassifier    gpt   \n4                   Perceptron    gpt   \n5                          SVC    gpt   \n6                SGDClassifier    gpt   \n7                  BernoulliNB    gpt   \n8   GradientBoostingClassifier    gpt   \n9          Logistic_Regression     ft   \n10      RandomForestClassifier     ft   \n11                  GaussianNB     ft   \n12      DecisionTreeClassifier     ft   \n13                  Perceptron     ft   \n14                         SVC     ft   \n15               SGDClassifier     ft   \n16                 BernoulliNB     ft   \n17  GradientBoostingClassifier     ft   \n18         Logistic_Regression    w2v   \n19      RandomForestClassifier    w2v   \n20                  GaussianNB    w2v   \n21      DecisionTreeClassifier    w2v   \n22                  Perceptron    w2v   \n23                         SVC    w2v   \n24               SGDClassifier    w2v   \n25                 BernoulliNB    w2v   \n26  GradientBoostingClassifier    w2v   \n27         Logistic_Regression  glove   \n28      RandomForestClassifier  glove   \n29                  GaussianNB  glove   \n30      DecisionTreeClassifier  glove   \n31                  Perceptron  glove   \n32                         SVC  glove   \n33               SGDClassifier  glove   \n34                 BernoulliNB  glove   \n35  GradientBoostingClassifier  glove   \n36         Logistic_Regression   bert   \n37      RandomForestClassifier   bert   \n38                  GaussianNB   bert   \n39      DecisionTreeClassifier   bert   \n40                  Perceptron   bert   \n41                         SVC   bert   \n42               SGDClassifier   bert   \n43                 BernoulliNB   bert   \n44  GradientBoostingClassifier   bert   \n45         Logistic_Regression  tfidf   \n46      RandomForestClassifier  tfidf   \n47                  GaussianNB  tfidf   \n48      DecisionTreeClassifier  tfidf   \n49                  Perceptron  tfidf   \n50                         SVC  tfidf   \n51               SGDClassifier  tfidf   \n52                 BernoulliNB  tfidf   \n53  GradientBoostingClassifier  tfidf   \n\n                                          best_params  best_score  \n0   {'C': 100, 'class_weight': 'balanced', 'penalt...    0.342146  \n1   {'bootstrap': True, 'class_weight': None, 'max...    0.911325  \n2                                                  {}    0.698115  \n3   {'max_depth': 10, 'min_samples_leaf': 4, 'min_...    0.812965  \n4   {'alpha': 0.1, 'fit_intercept': True, 'max_ite...    0.905936  \n5   {'C': 0.1, 'class_weight': None, 'degree': 5, ...    0.914918  \n6   {'alpha': 0.1, 'fit_intercept': True, 'loss': ...    0.898153  \n7                                    {'alpha': 0.001}    0.896350  \n8   {'learning_rate': 0.01, 'max_depth': 3, 'min_s...    0.900547  \n9   {'C': 0.01, 'class_weight': None, 'penalty': '...    0.911926  \n10  {'bootstrap': True, 'class_weight': None, 'max...    0.911325  \n11                                                 {}    0.867611  \n12  {'max_depth': 10, 'min_samples_leaf': 2, 'min_...    0.761580  \n13  {'alpha': 0.1, 'fit_intercept': True, 'max_ite...    0.857429  \n14  {'C': 0.1, 'class_weight': None, 'degree': 3, ...    0.911926  \n15  {'alpha': 0.1, 'fit_intercept': True, 'loss': ...    0.911924  \n16                                   {'alpha': 0.001}    0.910726  \n17  {'learning_rate': 0.01, 'max_depth': 3, 'min_s...    0.910726  \n18  {'C': 100, 'class_weight': None, 'penalty': 'l...    0.787950  \n19  {'bootstrap': True, 'class_weight': None, 'max...    0.913125  \n20                                                 {}    0.851414  \n21  {'max_depth': None, 'min_samples_leaf': 4, 'mi...    0.800455  \n22  {'alpha': 0.1, 'fit_intercept': True, 'max_ite...    0.887972  \n23  {'C': 0.1, 'class_weight': None, 'degree': 3, ...    0.911325  \n24  {'alpha': 0.0001, 'fit_intercept': True, 'loss...    0.895756  \n25                                   {'alpha': 0.001}    0.909529  \n26  {'learning_rate': 0.01, 'max_depth': 3, 'min_s...    0.910126  \n27  {'C': 100, 'class_weight': None, 'penalty': 'l...    0.449381  \n28  {'bootstrap': True, 'class_weight': None, 'max...    0.911926  \n29                                                 {}    0.830960  \n30  {'max_depth': 10, 'min_samples_leaf': 2, 'min_...    0.775341  \n31  {'alpha': 0.1, 'fit_intercept': True, 'max_ite...    0.848433  \n32  {'C': 0.1, 'class_weight': None, 'degree': 3, ...    0.911325  \n33  {'alpha': 0.1, 'fit_intercept': True, 'loss': ...    0.911924  \n34                                   {'alpha': 0.001}    0.892149  \n35  {'learning_rate': 0.01, 'max_depth': 3, 'min_s...    0.897551  \n36  {'C': 10, 'class_weight': None, 'penalty': 'l1...    0.452493  \n37  {'bootstrap': True, 'class_weight': None, 'max...    0.911325  \n38                                                 {}    0.741738  \n39  {'max_depth': 10, 'min_samples_leaf': 2, 'min_...    0.756762  \n40  {'alpha': 0.1, 'fit_intercept': True, 'max_ite...    0.903541  \n41  {'C': 0.1, 'class_weight': None, 'degree': 3, ...    0.911325  \n42  {'alpha': 0.1, 'fit_intercept': True, 'loss': ...    0.907133  \n43                                       {'alpha': 1}    0.889770  \n44  {'learning_rate': 0.01, 'max_depth': 3, 'min_s...    0.899349  \n45  {'C': 100, 'class_weight': None, 'penalty': 'l...    0.459591  \n46  {'bootstrap': True, 'class_weight': None, 'max...    0.910726  \n47                                                 {}    0.565320  \n48  {'max_depth': 10, 'min_samples_leaf': 2, 'min_...    0.732756  \n49  {'alpha': 0.1, 'fit_intercept': True, 'max_ite...    0.907732  \n50  {'C': 0.1, 'class_weight': None, 'degree': 3, ...    0.911325  \n51  {'alpha': 0.1, 'fit_intercept': True, 'loss': ...    0.909529  \n52                                       {'alpha': 1}    0.850828  \n53  {'learning_rate': 0.01, 'max_depth': 3, 'min_s...    0.888572  ",
      "text/html": "<div>\n<style scoped>\n    .dataframe tbody tr th:only-of-type {\n        vertical-align: middle;\n    }\n\n    .dataframe tbody tr th {\n        vertical-align: top;\n    }\n\n    .dataframe thead th {\n        text-align: right;\n    }\n</style>\n<table border=\"1\" class=\"dataframe\">\n  <thead>\n    <tr style=\"text-align: right;\">\n      <th></th>\n      <th>model</th>\n      <th>data</th>\n      <th>best_params</th>\n      <th>best_score</th>\n    </tr>\n  </thead>\n  <tbody>\n    <tr>\n      <th>0</th>\n      <td>Logistic_Regression</td>\n      <td>gpt</td>\n      <td>{'C': 100, 'class_weight': 'balanced', 'penalt...</td>\n      <td>0.342146</td>\n    </tr>\n    <tr>\n      <th>1</th>\n      <td>RandomForestClassifier</td>\n      <td>gpt</td>\n      <td>{'bootstrap': True, 'class_weight': None, 'max...</td>\n      <td>0.911325</td>\n    </tr>\n    <tr>\n      <th>2</th>\n      <td>GaussianNB</td>\n      <td>gpt</td>\n      <td>{}</td>\n      <td>0.698115</td>\n    </tr>\n    <tr>\n      <th>3</th>\n      <td>DecisionTreeClassifier</td>\n      <td>gpt</td>\n      <td>{'max_depth': 10, 'min_samples_leaf': 4, 'min_...</td>\n      <td>0.812965</td>\n    </tr>\n    <tr>\n      <th>4</th>\n      <td>Perceptron</td>\n      <td>gpt</td>\n      <td>{'alpha': 0.1, 'fit_intercept': True, 'max_ite...</td>\n      <td>0.905936</td>\n    </tr>\n    <tr>\n      <th>5</th>\n      <td>SVC</td>\n      <td>gpt</td>\n      <td>{'C': 0.1, 'class_weight': None, 'degree': 5, ...</td>\n      <td>0.914918</td>\n    </tr>\n    <tr>\n      <th>6</th>\n      <td>SGDClassifier</td>\n      <td>gpt</td>\n      <td>{'alpha': 0.1, 'fit_intercept': True, 'loss': ...</td>\n      <td>0.898153</td>\n    </tr>\n    <tr>\n      <th>7</th>\n      <td>BernoulliNB</td>\n      <td>gpt</td>\n      <td>{'alpha': 0.001}</td>\n      <td>0.896350</td>\n    </tr>\n    <tr>\n      <th>8</th>\n      <td>GradientBoostingClassifier</td>\n      <td>gpt</td>\n      <td>{'learning_rate': 0.01, 'max_depth': 3, 'min_s...</td>\n      <td>0.900547</td>\n    </tr>\n    <tr>\n      <th>9</th>\n      <td>Logistic_Regression</td>\n      <td>ft</td>\n      <td>{'C': 0.01, 'class_weight': None, 'penalty': '...</td>\n      <td>0.911926</td>\n    </tr>\n    <tr>\n      <th>10</th>\n      <td>RandomForestClassifier</td>\n      <td>ft</td>\n      <td>{'bootstrap': True, 'class_weight': None, 'max...</td>\n      <td>0.911325</td>\n    </tr>\n    <tr>\n      <th>11</th>\n      <td>GaussianNB</td>\n      <td>ft</td>\n      <td>{}</td>\n      <td>0.867611</td>\n    </tr>\n    <tr>\n      <th>12</th>\n      <td>DecisionTreeClassifier</td>\n      <td>ft</td>\n      <td>{'max_depth': 10, 'min_samples_leaf': 2, 'min_...</td>\n      <td>0.761580</td>\n    </tr>\n    <tr>\n      <th>13</th>\n      <td>Perceptron</td>\n      <td>ft</td>\n      <td>{'alpha': 0.1, 'fit_intercept': True, 'max_ite...</td>\n      <td>0.857429</td>\n    </tr>\n    <tr>\n      <th>14</th>\n      <td>SVC</td>\n      <td>ft</td>\n      <td>{'C': 0.1, 'class_weight': None, 'degree': 3, ...</td>\n      <td>0.911926</td>\n    </tr>\n    <tr>\n      <th>15</th>\n      <td>SGDClassifier</td>\n      <td>ft</td>\n      <td>{'alpha': 0.1, 'fit_intercept': True, 'loss': ...</td>\n      <td>0.911924</td>\n    </tr>\n    <tr>\n      <th>16</th>\n      <td>BernoulliNB</td>\n      <td>ft</td>\n      <td>{'alpha': 0.001}</td>\n      <td>0.910726</td>\n    </tr>\n    <tr>\n      <th>17</th>\n      <td>GradientBoostingClassifier</td>\n      <td>ft</td>\n      <td>{'learning_rate': 0.01, 'max_depth': 3, 'min_s...</td>\n      <td>0.910726</td>\n    </tr>\n    <tr>\n      <th>18</th>\n      <td>Logistic_Regression</td>\n      <td>w2v</td>\n      <td>{'C': 100, 'class_weight': None, 'penalty': 'l...</td>\n      <td>0.787950</td>\n    </tr>\n    <tr>\n      <th>19</th>\n      <td>RandomForestClassifier</td>\n      <td>w2v</td>\n      <td>{'bootstrap': True, 'class_weight': None, 'max...</td>\n      <td>0.913125</td>\n    </tr>\n    <tr>\n      <th>20</th>\n      <td>GaussianNB</td>\n      <td>w2v</td>\n      <td>{}</td>\n      <td>0.851414</td>\n    </tr>\n    <tr>\n      <th>21</th>\n      <td>DecisionTreeClassifier</td>\n      <td>w2v</td>\n      <td>{'max_depth': None, 'min_samples_leaf': 4, 'mi...</td>\n      <td>0.800455</td>\n    </tr>\n    <tr>\n      <th>22</th>\n      <td>Perceptron</td>\n      <td>w2v</td>\n      <td>{'alpha': 0.1, 'fit_intercept': True, 'max_ite...</td>\n      <td>0.887972</td>\n    </tr>\n    <tr>\n      <th>23</th>\n      <td>SVC</td>\n      <td>w2v</td>\n      <td>{'C': 0.1, 'class_weight': None, 'degree': 3, ...</td>\n      <td>0.911325</td>\n    </tr>\n    <tr>\n      <th>24</th>\n      <td>SGDClassifier</td>\n      <td>w2v</td>\n      <td>{'alpha': 0.0001, 'fit_intercept': True, 'loss...</td>\n      <td>0.895756</td>\n    </tr>\n    <tr>\n      <th>25</th>\n      <td>BernoulliNB</td>\n      <td>w2v</td>\n      <td>{'alpha': 0.001}</td>\n      <td>0.909529</td>\n    </tr>\n    <tr>\n      <th>26</th>\n      <td>GradientBoostingClassifier</td>\n      <td>w2v</td>\n      <td>{'learning_rate': 0.01, 'max_depth': 3, 'min_s...</td>\n      <td>0.910126</td>\n    </tr>\n    <tr>\n      <th>27</th>\n      <td>Logistic_Regression</td>\n      <td>glove</td>\n      <td>{'C': 100, 'class_weight': None, 'penalty': 'l...</td>\n      <td>0.449381</td>\n    </tr>\n    <tr>\n      <th>28</th>\n      <td>RandomForestClassifier</td>\n      <td>glove</td>\n      <td>{'bootstrap': True, 'class_weight': None, 'max...</td>\n      <td>0.911926</td>\n    </tr>\n    <tr>\n      <th>29</th>\n      <td>GaussianNB</td>\n      <td>glove</td>\n      <td>{}</td>\n      <td>0.830960</td>\n    </tr>\n    <tr>\n      <th>30</th>\n      <td>DecisionTreeClassifier</td>\n      <td>glove</td>\n      <td>{'max_depth': 10, 'min_samples_leaf': 2, 'min_...</td>\n      <td>0.775341</td>\n    </tr>\n    <tr>\n      <th>31</th>\n      <td>Perceptron</td>\n      <td>glove</td>\n      <td>{'alpha': 0.1, 'fit_intercept': True, 'max_ite...</td>\n      <td>0.848433</td>\n    </tr>\n    <tr>\n      <th>32</th>\n      <td>SVC</td>\n      <td>glove</td>\n      <td>{'C': 0.1, 'class_weight': None, 'degree': 3, ...</td>\n      <td>0.911325</td>\n    </tr>\n    <tr>\n      <th>33</th>\n      <td>SGDClassifier</td>\n      <td>glove</td>\n      <td>{'alpha': 0.1, 'fit_intercept': True, 'loss': ...</td>\n      <td>0.911924</td>\n    </tr>\n    <tr>\n      <th>34</th>\n      <td>BernoulliNB</td>\n      <td>glove</td>\n      <td>{'alpha': 0.001}</td>\n      <td>0.892149</td>\n    </tr>\n    <tr>\n      <th>35</th>\n      <td>GradientBoostingClassifier</td>\n      <td>glove</td>\n      <td>{'learning_rate': 0.01, 'max_depth': 3, 'min_s...</td>\n      <td>0.897551</td>\n    </tr>\n    <tr>\n      <th>36</th>\n      <td>Logistic_Regression</td>\n      <td>bert</td>\n      <td>{'C': 10, 'class_weight': None, 'penalty': 'l1...</td>\n      <td>0.452493</td>\n    </tr>\n    <tr>\n      <th>37</th>\n      <td>RandomForestClassifier</td>\n      <td>bert</td>\n      <td>{'bootstrap': True, 'class_weight': None, 'max...</td>\n      <td>0.911325</td>\n    </tr>\n    <tr>\n      <th>38</th>\n      <td>GaussianNB</td>\n      <td>bert</td>\n      <td>{}</td>\n      <td>0.741738</td>\n    </tr>\n    <tr>\n      <th>39</th>\n      <td>DecisionTreeClassifier</td>\n      <td>bert</td>\n      <td>{'max_depth': 10, 'min_samples_leaf': 2, 'min_...</td>\n      <td>0.756762</td>\n    </tr>\n    <tr>\n      <th>40</th>\n      <td>Perceptron</td>\n      <td>bert</td>\n      <td>{'alpha': 0.1, 'fit_intercept': True, 'max_ite...</td>\n      <td>0.903541</td>\n    </tr>\n    <tr>\n      <th>41</th>\n      <td>SVC</td>\n      <td>bert</td>\n      <td>{'C': 0.1, 'class_weight': None, 'degree': 3, ...</td>\n      <td>0.911325</td>\n    </tr>\n    <tr>\n      <th>42</th>\n      <td>SGDClassifier</td>\n      <td>bert</td>\n      <td>{'alpha': 0.1, 'fit_intercept': True, 'loss': ...</td>\n      <td>0.907133</td>\n    </tr>\n    <tr>\n      <th>43</th>\n      <td>BernoulliNB</td>\n      <td>bert</td>\n      <td>{'alpha': 1}</td>\n      <td>0.889770</td>\n    </tr>\n    <tr>\n      <th>44</th>\n      <td>GradientBoostingClassifier</td>\n      <td>bert</td>\n      <td>{'learning_rate': 0.01, 'max_depth': 3, 'min_s...</td>\n      <td>0.899349</td>\n    </tr>\n    <tr>\n      <th>45</th>\n      <td>Logistic_Regression</td>\n      <td>tfidf</td>\n      <td>{'C': 100, 'class_weight': None, 'penalty': 'l...</td>\n      <td>0.459591</td>\n    </tr>\n    <tr>\n      <th>46</th>\n      <td>RandomForestClassifier</td>\n      <td>tfidf</td>\n      <td>{'bootstrap': True, 'class_weight': None, 'max...</td>\n      <td>0.910726</td>\n    </tr>\n    <tr>\n      <th>47</th>\n      <td>GaussianNB</td>\n      <td>tfidf</td>\n      <td>{}</td>\n      <td>0.565320</td>\n    </tr>\n    <tr>\n      <th>48</th>\n      <td>DecisionTreeClassifier</td>\n      <td>tfidf</td>\n      <td>{'max_depth': 10, 'min_samples_leaf': 2, 'min_...</td>\n      <td>0.732756</td>\n    </tr>\n    <tr>\n      <th>49</th>\n      <td>Perceptron</td>\n      <td>tfidf</td>\n      <td>{'alpha': 0.1, 'fit_intercept': True, 'max_ite...</td>\n      <td>0.907732</td>\n    </tr>\n    <tr>\n      <th>50</th>\n      <td>SVC</td>\n      <td>tfidf</td>\n      <td>{'C': 0.1, 'class_weight': None, 'degree': 3, ...</td>\n      <td>0.911325</td>\n    </tr>\n    <tr>\n      <th>51</th>\n      <td>SGDClassifier</td>\n      <td>tfidf</td>\n      <td>{'alpha': 0.1, 'fit_intercept': True, 'loss': ...</td>\n      <td>0.909529</td>\n    </tr>\n    <tr>\n      <th>52</th>\n      <td>BernoulliNB</td>\n      <td>tfidf</td>\n      <td>{'alpha': 1}</td>\n      <td>0.850828</td>\n    </tr>\n    <tr>\n      <th>53</th>\n      <td>GradientBoostingClassifier</td>\n      <td>tfidf</td>\n      <td>{'learning_rate': 0.01, 'max_depth': 3, 'min_s...</td>\n      <td>0.888572</td>\n    </tr>\n  </tbody>\n</table>\n</div>"
     },
     "execution_count": 3,
     "metadata": {},
     "output_type": "execute_result"
    }
   ],
   "source": [
    "df"
   ],
   "metadata": {
    "collapsed": false,
    "ExecuteTime": {
     "end_time": "2024-01-26T16:01:18.666525Z",
     "start_time": "2024-01-26T16:01:18.269229Z"
    }
   },
   "execution_count": 3
  },
  {
   "cell_type": "code",
   "outputs": [
    {
     "name": "stdout",
     "output_type": "stream",
     "text": [
      "Processing embedding type: gpt\n",
      "Processing embedding type: gpt\n",
      "Processing embedding type: gpt\n",
      "Processing embedding type: gpt\n",
      "Processing embedding type: gpt\n",
      "Processing embedding type: gpt\n",
      "Processing embedding type: gpt\n",
      "Processing embedding type: gpt\n",
      "Processing embedding type: gpt\n",
      "Processing embedding type: ft\n",
      "Processing embedding type: ft\n",
      "Processing embedding type: ft\n",
      "Processing embedding type: ft\n",
      "Processing embedding type: ft\n",
      "Processing embedding type: ft\n",
      "Processing embedding type: ft\n",
      "Processing embedding type: ft\n",
      "Processing embedding type: ft\n",
      "Processing embedding type: w2v\n",
      "Processing embedding type: w2v\n",
      "Processing embedding type: w2v\n",
      "Processing embedding type: w2v\n",
      "Processing embedding type: w2v\n",
      "Processing embedding type: w2v\n",
      "Processing embedding type: w2v\n",
      "Processing embedding type: w2v\n",
      "Processing embedding type: w2v\n",
      "Processing embedding type: glove\n",
      "Processing embedding type: glove\n",
      "Processing embedding type: glove\n",
      "Processing embedding type: glove\n",
      "Processing embedding type: glove\n",
      "Processing embedding type: glove\n",
      "Processing embedding type: glove\n",
      "Processing embedding type: glove\n",
      "Processing embedding type: glove\n",
      "Processing embedding type: bert\n",
      "Processing embedding type: bert\n",
      "Processing embedding type: bert\n",
      "Processing embedding type: bert\n",
      "Processing embedding type: bert\n",
      "Processing embedding type: bert\n",
      "Processing embedding type: bert\n",
      "Processing embedding type: bert\n",
      "Processing embedding type: bert\n",
      "Processing embedding type: tfidf\n",
      "Processing embedding type: tfidf\n",
      "Processing embedding type: tfidf\n",
      "Processing embedding type: tfidf\n",
      "Processing embedding type: tfidf\n",
      "Processing embedding type: tfidf\n",
      "Processing embedding type: tfidf\n",
      "Processing embedding type: tfidf\n",
      "Processing embedding type: tfidf\n",
      "Final embeddings_params dictionary:\n",
      "{'gpt': {'Logistic_Regression': {'C': 100, 'class_weight': 'balanced', 'penalty': 'l1', 'solver': 'liblinear'}, 'RandomForestClassifier': {'bootstrap': True, 'class_weight': None, 'max_depth': None, 'max_features': 'log2', 'min_samples_leaf': 1, 'min_samples_split': 10, 'n_estimators': 100}, 'GaussianNB': {}, 'DecisionTreeClassifier': {'max_depth': 10, 'min_samples_leaf': 4, 'min_samples_split': 10}, 'Perceptron': {'alpha': 0.1, 'fit_intercept': True, 'max_iter': 1000, 'penalty': 'l2'}, 'SVC': {'C': 0.1, 'class_weight': None, 'degree': 5, 'gamma': 'auto', 'kernel': 'poly'}, 'SGDClassifier': {'alpha': 0.1, 'fit_intercept': True, 'loss': 'modified_huber', 'max_iter': 1500, 'penalty': 'l2'}, 'BernoulliNB': {'alpha': 0.001}, 'GradientBoostingClassifier': {'learning_rate': 0.01, 'max_depth': 3, 'min_samples_leaf': 1, 'min_samples_split': 5, 'n_estimators': 100}}, 'ft': {'Logistic_Regression': {'C': 0.01, 'class_weight': None, 'penalty': 'l1', 'solver': 'liblinear'}, 'RandomForestClassifier': {'bootstrap': True, 'class_weight': None, 'max_depth': None, 'max_features': 'sqrt', 'min_samples_leaf': 4, 'min_samples_split': 5, 'n_estimators': 300}, 'GaussianNB': {}, 'DecisionTreeClassifier': {'max_depth': 10, 'min_samples_leaf': 2, 'min_samples_split': 2}, 'Perceptron': {'alpha': 0.1, 'fit_intercept': True, 'max_iter': 1000, 'penalty': 'l2'}, 'SVC': {'C': 0.1, 'class_weight': None, 'degree': 3, 'gamma': 'scale', 'kernel': 'poly'}, 'SGDClassifier': {'alpha': 0.1, 'fit_intercept': True, 'loss': 'hinge', 'max_iter': 1000, 'penalty': 'l1'}, 'BernoulliNB': {'alpha': 0.001}, 'GradientBoostingClassifier': {'learning_rate': 0.01, 'max_depth': 3, 'min_samples_leaf': 1, 'min_samples_split': 5, 'n_estimators': 100}}, 'w2v': {'Logistic_Regression': {'C': 100, 'class_weight': None, 'penalty': 'l1', 'solver': 'liblinear'}, 'RandomForestClassifier': {'bootstrap': True, 'class_weight': None, 'max_depth': None, 'max_features': 'sqrt', 'min_samples_leaf': 4, 'min_samples_split': 10, 'n_estimators': 100}, 'GaussianNB': {}, 'DecisionTreeClassifier': {'max_depth': None, 'min_samples_leaf': 4, 'min_samples_split': 5}, 'Perceptron': {'alpha': 0.1, 'fit_intercept': True, 'max_iter': 1000, 'penalty': 'elasticnet'}, 'SVC': {'C': 0.1, 'class_weight': None, 'degree': 3, 'gamma': 'scale', 'kernel': 'rbf'}, 'SGDClassifier': {'alpha': 0.0001, 'fit_intercept': True, 'loss': 'modified_huber', 'max_iter': 1000, 'penalty': 'l1'}, 'BernoulliNB': {'alpha': 0.001}, 'GradientBoostingClassifier': {'learning_rate': 0.01, 'max_depth': 3, 'min_samples_leaf': 1, 'min_samples_split': 2, 'n_estimators': 100}}, 'glove': {'Logistic_Regression': {'C': 100, 'class_weight': None, 'penalty': 'l1', 'solver': 'liblinear'}, 'RandomForestClassifier': {'bootstrap': True, 'class_weight': None, 'max_depth': 20, 'max_features': 'sqrt', 'min_samples_leaf': 1, 'min_samples_split': 10, 'n_estimators': 100}, 'GaussianNB': {}, 'DecisionTreeClassifier': {'max_depth': 10, 'min_samples_leaf': 2, 'min_samples_split': 10}, 'Perceptron': {'alpha': 0.1, 'fit_intercept': True, 'max_iter': 1000, 'penalty': 'l2'}, 'SVC': {'C': 0.1, 'class_weight': None, 'degree': 3, 'gamma': 'scale', 'kernel': 'rbf'}, 'SGDClassifier': {'alpha': 0.1, 'fit_intercept': True, 'loss': 'hinge', 'max_iter': 1500, 'penalty': 'elasticnet'}, 'BernoulliNB': {'alpha': 0.001}, 'GradientBoostingClassifier': {'learning_rate': 0.01, 'max_depth': 3, 'min_samples_leaf': 1, 'min_samples_split': 5, 'n_estimators': 100}}, 'bert': {'Logistic_Regression': {'C': 10, 'class_weight': None, 'penalty': 'l1', 'solver': 'liblinear'}, 'RandomForestClassifier': {'bootstrap': True, 'class_weight': None, 'max_depth': None, 'max_features': 'sqrt', 'min_samples_leaf': 1, 'min_samples_split': 2, 'n_estimators': 300}, 'GaussianNB': {}, 'DecisionTreeClassifier': {'max_depth': 10, 'min_samples_leaf': 2, 'min_samples_split': 2}, 'Perceptron': {'alpha': 0.1, 'fit_intercept': True, 'max_iter': 1000, 'penalty': 'l1'}, 'SVC': {'C': 0.1, 'class_weight': None, 'degree': 3, 'gamma': 'scale', 'kernel': 'rbf'}, 'SGDClassifier': {'alpha': 0.1, 'fit_intercept': True, 'loss': 'modified_huber', 'max_iter': 1000, 'penalty': 'l2'}, 'BernoulliNB': {'alpha': 1}, 'GradientBoostingClassifier': {'learning_rate': 0.01, 'max_depth': 3, 'min_samples_leaf': 1, 'min_samples_split': 2, 'n_estimators': 100}}, 'tfidf': {'Logistic_Regression': {'C': 100, 'class_weight': None, 'penalty': 'l1', 'solver': 'liblinear'}, 'RandomForestClassifier': {'bootstrap': True, 'class_weight': None, 'max_depth': None, 'max_features': 'log2', 'min_samples_leaf': 4, 'min_samples_split': 5, 'n_estimators': 200}, 'GaussianNB': {}, 'DecisionTreeClassifier': {'max_depth': 10, 'min_samples_leaf': 2, 'min_samples_split': 10}, 'Perceptron': {'alpha': 0.1, 'fit_intercept': True, 'max_iter': 1000, 'penalty': 'l1'}, 'SVC': {'C': 0.1, 'class_weight': None, 'degree': 3, 'gamma': 'scale', 'kernel': 'rbf'}, 'SGDClassifier': {'alpha': 0.1, 'fit_intercept': True, 'loss': 'modified_huber', 'max_iter': 1000, 'penalty': 'l2'}, 'BernoulliNB': {'alpha': 1}, 'GradientBoostingClassifier': {'learning_rate': 0.01, 'max_depth': 3, 'min_samples_leaf': 4, 'min_samples_split': 2, 'n_estimators': 100}}}\n"
     ]
    }
   ],
   "source": [
    "# Initialize an empty dictionary to hold the parameters for each embedding type\n",
    "embeddings_params = {}\n",
    "\n",
    "# Iterate over each row in the DataFrame\n",
    "for index, row in df.iterrows():\n",
    "    # Extract the embedding type from the 'data' column\n",
    "    emb_type = row['data']\n",
    "    print(f\"Processing embedding type: {emb_type}\")  # Debug print\n",
    "\n",
    "    # If this embedding type isn't already a key in the dictionary, add it with an empty dict as its value\n",
    "    if emb_type not in embeddings_params:\n",
    "        embeddings_params[emb_type] = {}\n",
    "\n",
    "    # Evaluate the string of best parameters to a dictionary and store it in the corresponding embedding type\n",
    "    # Safe evaluation is required here since the 'best_params' column contains string representations of dictionaries\n",
    "    try:\n",
    "        best_params_dict = eval(row['best_params'], {\"__builtins__\": {}}, {})\n",
    "    except (SyntaxError, NameError):\n",
    "        # If there's an error in evaluation, we skip this row\n",
    "        print(f\"Skipping row {index} due to error in evaluating parameters.\")\n",
    "        continue\n",
    "\n",
    "    # Add the model and its best parameters to the embedding type's dictionary\n",
    "    embeddings_params[emb_type][row['model']] = best_params_dict\n",
    "\n",
    "print(\"Final embeddings_params dictionary:\")\n",
    "print(embeddings_params)\n"
   ],
   "metadata": {
    "collapsed": false,
    "ExecuteTime": {
     "end_time": "2024-01-26T16:14:19.504889Z",
     "start_time": "2024-01-26T16:14:18.925023Z"
    }
   },
   "execution_count": 15
  },
  {
   "cell_type": "code",
   "outputs": [
    {
     "data": {
      "text/plain": "{'gpt': {'Logistic_Regression': {'C': 100,\n   'class_weight': 'balanced',\n   'penalty': 'l1',\n   'solver': 'liblinear'},\n  'RandomForestClassifier': {'bootstrap': True,\n   'class_weight': None,\n   'max_depth': None,\n   'max_features': 'log2',\n   'min_samples_leaf': 1,\n   'min_samples_split': 10,\n   'n_estimators': 100},\n  'GaussianNB': {},\n  'DecisionTreeClassifier': {'max_depth': 10,\n   'min_samples_leaf': 4,\n   'min_samples_split': 10},\n  'Perceptron': {'alpha': 0.1,\n   'fit_intercept': True,\n   'max_iter': 1000,\n   'penalty': 'l2'},\n  'SVC': {'C': 0.1,\n   'class_weight': None,\n   'degree': 5,\n   'gamma': 'auto',\n   'kernel': 'poly'},\n  'SGDClassifier': {'alpha': 0.1,\n   'fit_intercept': True,\n   'loss': 'modified_huber',\n   'max_iter': 1500,\n   'penalty': 'l2'},\n  'BernoulliNB': {'alpha': 0.001},\n  'GradientBoostingClassifier': {'learning_rate': 0.01,\n   'max_depth': 3,\n   'min_samples_leaf': 1,\n   'min_samples_split': 5,\n   'n_estimators': 100}},\n 'ft': {'Logistic_Regression': {'C': 0.01,\n   'class_weight': None,\n   'penalty': 'l1',\n   'solver': 'liblinear'},\n  'RandomForestClassifier': {'bootstrap': True,\n   'class_weight': None,\n   'max_depth': None,\n   'max_features': 'sqrt',\n   'min_samples_leaf': 4,\n   'min_samples_split': 5,\n   'n_estimators': 300},\n  'GaussianNB': {},\n  'DecisionTreeClassifier': {'max_depth': 10,\n   'min_samples_leaf': 2,\n   'min_samples_split': 2},\n  'Perceptron': {'alpha': 0.1,\n   'fit_intercept': True,\n   'max_iter': 1000,\n   'penalty': 'l2'},\n  'SVC': {'C': 0.1,\n   'class_weight': None,\n   'degree': 3,\n   'gamma': 'scale',\n   'kernel': 'poly'},\n  'SGDClassifier': {'alpha': 0.1,\n   'fit_intercept': True,\n   'loss': 'hinge',\n   'max_iter': 1000,\n   'penalty': 'l1'},\n  'BernoulliNB': {'alpha': 0.001},\n  'GradientBoostingClassifier': {'learning_rate': 0.01,\n   'max_depth': 3,\n   'min_samples_leaf': 1,\n   'min_samples_split': 5,\n   'n_estimators': 100}},\n 'w2v': {'Logistic_Regression': {'C': 100,\n   'class_weight': None,\n   'penalty': 'l1',\n   'solver': 'liblinear'},\n  'RandomForestClassifier': {'bootstrap': True,\n   'class_weight': None,\n   'max_depth': None,\n   'max_features': 'sqrt',\n   'min_samples_leaf': 4,\n   'min_samples_split': 10,\n   'n_estimators': 100},\n  'GaussianNB': {},\n  'DecisionTreeClassifier': {'max_depth': None,\n   'min_samples_leaf': 4,\n   'min_samples_split': 5},\n  'Perceptron': {'alpha': 0.1,\n   'fit_intercept': True,\n   'max_iter': 1000,\n   'penalty': 'elasticnet'},\n  'SVC': {'C': 0.1,\n   'class_weight': None,\n   'degree': 3,\n   'gamma': 'scale',\n   'kernel': 'rbf'},\n  'SGDClassifier': {'alpha': 0.0001,\n   'fit_intercept': True,\n   'loss': 'modified_huber',\n   'max_iter': 1000,\n   'penalty': 'l1'},\n  'BernoulliNB': {'alpha': 0.001},\n  'GradientBoostingClassifier': {'learning_rate': 0.01,\n   'max_depth': 3,\n   'min_samples_leaf': 1,\n   'min_samples_split': 2,\n   'n_estimators': 100}},\n 'glove': {'Logistic_Regression': {'C': 100,\n   'class_weight': None,\n   'penalty': 'l1',\n   'solver': 'liblinear'},\n  'RandomForestClassifier': {'bootstrap': True,\n   'class_weight': None,\n   'max_depth': 20,\n   'max_features': 'sqrt',\n   'min_samples_leaf': 1,\n   'min_samples_split': 10,\n   'n_estimators': 100},\n  'GaussianNB': {},\n  'DecisionTreeClassifier': {'max_depth': 10,\n   'min_samples_leaf': 2,\n   'min_samples_split': 10},\n  'Perceptron': {'alpha': 0.1,\n   'fit_intercept': True,\n   'max_iter': 1000,\n   'penalty': 'l2'},\n  'SVC': {'C': 0.1,\n   'class_weight': None,\n   'degree': 3,\n   'gamma': 'scale',\n   'kernel': 'rbf'},\n  'SGDClassifier': {'alpha': 0.1,\n   'fit_intercept': True,\n   'loss': 'hinge',\n   'max_iter': 1500,\n   'penalty': 'elasticnet'},\n  'BernoulliNB': {'alpha': 0.001},\n  'GradientBoostingClassifier': {'learning_rate': 0.01,\n   'max_depth': 3,\n   'min_samples_leaf': 1,\n   'min_samples_split': 5,\n   'n_estimators': 100}},\n 'bert': {'Logistic_Regression': {'C': 10,\n   'class_weight': None,\n   'penalty': 'l1',\n   'solver': 'liblinear'},\n  'RandomForestClassifier': {'bootstrap': True,\n   'class_weight': None,\n   'max_depth': None,\n   'max_features': 'sqrt',\n   'min_samples_leaf': 1,\n   'min_samples_split': 2,\n   'n_estimators': 300},\n  'GaussianNB': {},\n  'DecisionTreeClassifier': {'max_depth': 10,\n   'min_samples_leaf': 2,\n   'min_samples_split': 2},\n  'Perceptron': {'alpha': 0.1,\n   'fit_intercept': True,\n   'max_iter': 1000,\n   'penalty': 'l1'},\n  'SVC': {'C': 0.1,\n   'class_weight': None,\n   'degree': 3,\n   'gamma': 'scale',\n   'kernel': 'rbf'},\n  'SGDClassifier': {'alpha': 0.1,\n   'fit_intercept': True,\n   'loss': 'modified_huber',\n   'max_iter': 1000,\n   'penalty': 'l2'},\n  'BernoulliNB': {'alpha': 1},\n  'GradientBoostingClassifier': {'learning_rate': 0.01,\n   'max_depth': 3,\n   'min_samples_leaf': 1,\n   'min_samples_split': 2,\n   'n_estimators': 100}},\n 'tfidf': {'Logistic_Regression': {'C': 100,\n   'class_weight': None,\n   'penalty': 'l1',\n   'solver': 'liblinear'},\n  'RandomForestClassifier': {'bootstrap': True,\n   'class_weight': None,\n   'max_depth': None,\n   'max_features': 'log2',\n   'min_samples_leaf': 4,\n   'min_samples_split': 5,\n   'n_estimators': 200},\n  'GaussianNB': {},\n  'DecisionTreeClassifier': {'max_depth': 10,\n   'min_samples_leaf': 2,\n   'min_samples_split': 10},\n  'Perceptron': {'alpha': 0.1,\n   'fit_intercept': True,\n   'max_iter': 1000,\n   'penalty': 'l1'},\n  'SVC': {'C': 0.1,\n   'class_weight': None,\n   'degree': 3,\n   'gamma': 'scale',\n   'kernel': 'rbf'},\n  'SGDClassifier': {'alpha': 0.1,\n   'fit_intercept': True,\n   'loss': 'modified_huber',\n   'max_iter': 1000,\n   'penalty': 'l2'},\n  'BernoulliNB': {'alpha': 1},\n  'GradientBoostingClassifier': {'learning_rate': 0.01,\n   'max_depth': 3,\n   'min_samples_leaf': 4,\n   'min_samples_split': 2,\n   'n_estimators': 100}}}"
     },
     "execution_count": 16,
     "metadata": {},
     "output_type": "execute_result"
    }
   ],
   "source": [
    "embeddings_params"
   ],
   "metadata": {
    "collapsed": false,
    "ExecuteTime": {
     "end_time": "2024-01-26T16:14:53.533255Z",
     "start_time": "2024-01-26T16:14:53.277960Z"
    }
   },
   "execution_count": 16
  },
  {
   "cell_type": "code",
   "outputs": [],
   "source": [
    "# Iterate over the embeddings_params dictionary\n",
    "for emb_type, models in embeddings_params.items():\n",
    "    for model_name, params in models.items():\n",
    "        # Check if 'class_weight' is a key in the params dictionary\n",
    "        if 'class_weight' in params:\n",
    "            # Set the 'class_weight' to {0: 1, 1: 9}\n",
    "            params['class_weight'] = {\n",
    "                0: 1,\n",
    "                1: 9\n",
    "            },\n"
   ],
   "metadata": {
    "collapsed": false,
    "ExecuteTime": {
     "end_time": "2024-01-26T16:18:51.598072Z",
     "start_time": "2024-01-26T16:18:51.344630Z"
    }
   },
   "execution_count": 20
  },
  {
   "cell_type": "markdown",
   "source": [],
   "metadata": {
    "collapsed": false
   }
  },
  {
   "cell_type": "code",
   "outputs": [],
   "source": [
    "with open( project_dir / \"/data/processed/hyperparameters/hyperparameters.json\", 'w') as json_file:\n",
    "    json.dump(embeddings_params, json_file, indent=4)"
   ],
   "metadata": {
    "collapsed": false,
    "ExecuteTime": {
     "end_time": "2024-01-26T16:19:09.810649Z",
     "start_time": "2024-01-26T16:19:09.488437Z"
    }
   },
   "execution_count": 25
  }
 ],
 "metadata": {
  "kernelspec": {
   "display_name": "tum-nlp-praktikum",
   "language": "python",
   "name": "python3"
  },
  "language_info": {
   "codemirror_mode": {
    "name": "ipython",
    "version": 3
   },
   "file_extension": ".py",
   "mimetype": "text/x-python",
   "name": "python",
   "nbconvert_exporter": "python",
   "pygments_lexer": "ipython3",
   "version": "3.9.18"
  }
 },
 "nbformat": 4,
 "nbformat_minor": 2
}
