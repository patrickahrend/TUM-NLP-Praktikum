{
 "cells": [
  {
   "cell_type": "code",
   "execution_count": 86,
   "id": "initial_id",
   "metadata": {
    "collapsed": true,
    "ExecuteTime": {
     "end_time": "2024-01-26T13:39:01.217104Z",
     "start_time": "2024-01-26T13:39:00.924265Z"
    }
   },
   "outputs": [],
   "source": [
    "from pathlib import Path\n",
    "\n",
    "import pandas as pd\n",
    "\n",
    "project_dir = Path(Path.cwd()).resolve().parents[1]\n",
    "result_bert_base = pd.read_csv(\n",
    "    project_dir / \"TUM-NLP-Praktikum/references/model results/test_data_bert_base_predictions.csv\")\n",
    "result_bert_large = pd.read_csv(\n",
    "    project_dir / \"TUM-NLP-Praktikum/references/model results/test_data_bert_large_predictions.csv\")\n",
    "results_gpt = pd.read_csv(\n",
    "    project_dir / \"TUM-NLP-Praktikum/references/model results/test_data_gpt_prediction.csv\")\n",
    "results_rnn = pd.read_csv(project_dir / \"TUM-NLP-Praktikum/references/model results/test_data_rnn_predictions.csv\")\n",
    "results_rnn_tuned = pd.read_csv(\n",
    "    project_dir / \"TUM-NLP-Praktikum/references/model results/test_data_rnn_predictions_tuned.csv\")\n",
    "results_mean_cenroid = pd.read_csv(\n",
    "    project_dir / \"TUM-NLP-Praktikum/references/model results/test_data_mean_cenroid_predictions.csv\")\n",
    "results_cosine_similarity = pd.read_csv(\n",
    "    project_dir / \"TUM-NLP-Praktikum/references/model results/test_data_cosine_similarity_predictions.csv\")"
   ]
  },
  {
   "cell_type": "markdown",
   "source": [
    "## Merging RNN and Bert Predictions to display in Frontend "
   ],
   "metadata": {
    "collapsed": false
   },
   "id": "5439ddd3426b3833"
  },
  {
   "cell_type": "code",
   "outputs": [
    {
     "data": {
      "text/plain": "                    Process  \\\n0    Travel Insurance Claim   \n1    Travel Insurance Claim   \n2    Travel Insurance Claim   \n3    Travel Insurance Claim   \n4    Travel Insurance Claim   \n..                      ...   \n261                   SM2_2   \n262                   SM2_2   \n263                   SM2_2   \n264                   SM2_2   \n265                   SM2_2   \n\n                                                  Text  Label  \\\n0    we encourage you or your representative to tel...      1   \n1    you must co - operate at all time in relation ...      1   \n2    once we have all relevant information and have...      1   \n3    we comply with the principles of the privacy a...      1   \n4    we will tell you about the progress of your cl...      1   \n..                                                 ...    ...   \n261  the active power limit value of the meter must...      0   \n262  roasting software : with the quest link to a c...      0   \n263  for a plan push operation the readout plan ( t...      0   \n264  if there be a time difference between 2 and 9 ...      0   \n265  the operating limit of the meter be set by the...      0   \n\n                                   Process_description  gpt_RNN_Prediction  \\\n0    the process for a travel insurance claim invol...                 0.0   \n1    the process for a travel insurance claim invol...                 0.0   \n2    the process for a travel insurance claim invol...                 0.0   \n3    the process for a travel insurance claim invol...                 0.0   \n4    the process for a travel insurance claim invol...                 0.0   \n..                                                 ...                 ...   \n261  this process involve the smart meter be turn o...                 0.0   \n262  this process involve the smart meter be turn o...                 0.0   \n263  this process involve the smart meter be turn o...                 0.0   \n264  this process involve the smart meter be turn o...                 0.0   \n265  this process involve the smart meter be turn o...                 0.0   \n\n     fasttext_RNN_Prediction  word2vec_RNN_Prediction  glove_RNN_Prediction  \\\n0                        0.0                      0.0                   0.0   \n1                        0.0                      0.0                   0.0   \n2                        0.0                      0.0                   0.0   \n3                        0.0                      0.0                   0.0   \n4                        0.0                      0.0                   0.0   \n..                       ...                      ...                   ...   \n261                      0.0                      0.0                   0.0   \n262                      0.0                      0.0                   0.0   \n263                      0.0                      0.0                   0.0   \n264                      0.0                      0.0                   0.0   \n265                      0.0                      0.0                   0.0   \n\n     bert_RNN_Prediction  tfidf_RNN_Prediction  \n0                    0.0                   0.0  \n1                    0.0                   0.0  \n2                    0.0                   0.0  \n3                    0.0                   0.0  \n4                    0.0                   0.0  \n..                   ...                   ...  \n261                  0.0                   0.0  \n262                  0.0                   0.0  \n263                  0.0                   0.0  \n264                  0.0                   0.0  \n265                  0.0                   0.0  \n\n[266 rows x 10 columns]",
      "text/html": "<div>\n<style scoped>\n    .dataframe tbody tr th:only-of-type {\n        vertical-align: middle;\n    }\n\n    .dataframe tbody tr th {\n        vertical-align: top;\n    }\n\n    .dataframe thead th {\n        text-align: right;\n    }\n</style>\n<table border=\"1\" class=\"dataframe\">\n  <thead>\n    <tr style=\"text-align: right;\">\n      <th></th>\n      <th>Process</th>\n      <th>Text</th>\n      <th>Label</th>\n      <th>Process_description</th>\n      <th>gpt_RNN_Prediction</th>\n      <th>fasttext_RNN_Prediction</th>\n      <th>word2vec_RNN_Prediction</th>\n      <th>glove_RNN_Prediction</th>\n      <th>bert_RNN_Prediction</th>\n      <th>tfidf_RNN_Prediction</th>\n    </tr>\n  </thead>\n  <tbody>\n    <tr>\n      <th>0</th>\n      <td>Travel Insurance Claim</td>\n      <td>we encourage you or your representative to tel...</td>\n      <td>1</td>\n      <td>the process for a travel insurance claim invol...</td>\n      <td>0.0</td>\n      <td>0.0</td>\n      <td>0.0</td>\n      <td>0.0</td>\n      <td>0.0</td>\n      <td>0.0</td>\n    </tr>\n    <tr>\n      <th>1</th>\n      <td>Travel Insurance Claim</td>\n      <td>you must co - operate at all time in relation ...</td>\n      <td>1</td>\n      <td>the process for a travel insurance claim invol...</td>\n      <td>0.0</td>\n      <td>0.0</td>\n      <td>0.0</td>\n      <td>0.0</td>\n      <td>0.0</td>\n      <td>0.0</td>\n    </tr>\n    <tr>\n      <th>2</th>\n      <td>Travel Insurance Claim</td>\n      <td>once we have all relevant information and have...</td>\n      <td>1</td>\n      <td>the process for a travel insurance claim invol...</td>\n      <td>0.0</td>\n      <td>0.0</td>\n      <td>0.0</td>\n      <td>0.0</td>\n      <td>0.0</td>\n      <td>0.0</td>\n    </tr>\n    <tr>\n      <th>3</th>\n      <td>Travel Insurance Claim</td>\n      <td>we comply with the principles of the privacy a...</td>\n      <td>1</td>\n      <td>the process for a travel insurance claim invol...</td>\n      <td>0.0</td>\n      <td>0.0</td>\n      <td>0.0</td>\n      <td>0.0</td>\n      <td>0.0</td>\n      <td>0.0</td>\n    </tr>\n    <tr>\n      <th>4</th>\n      <td>Travel Insurance Claim</td>\n      <td>we will tell you about the progress of your cl...</td>\n      <td>1</td>\n      <td>the process for a travel insurance claim invol...</td>\n      <td>0.0</td>\n      <td>0.0</td>\n      <td>0.0</td>\n      <td>0.0</td>\n      <td>0.0</td>\n      <td>0.0</td>\n    </tr>\n    <tr>\n      <th>...</th>\n      <td>...</td>\n      <td>...</td>\n      <td>...</td>\n      <td>...</td>\n      <td>...</td>\n      <td>...</td>\n      <td>...</td>\n      <td>...</td>\n      <td>...</td>\n      <td>...</td>\n    </tr>\n    <tr>\n      <th>261</th>\n      <td>SM2_2</td>\n      <td>the active power limit value of the meter must...</td>\n      <td>0</td>\n      <td>this process involve the smart meter be turn o...</td>\n      <td>0.0</td>\n      <td>0.0</td>\n      <td>0.0</td>\n      <td>0.0</td>\n      <td>0.0</td>\n      <td>0.0</td>\n    </tr>\n    <tr>\n      <th>262</th>\n      <td>SM2_2</td>\n      <td>roasting software : with the quest link to a c...</td>\n      <td>0</td>\n      <td>this process involve the smart meter be turn o...</td>\n      <td>0.0</td>\n      <td>0.0</td>\n      <td>0.0</td>\n      <td>0.0</td>\n      <td>0.0</td>\n      <td>0.0</td>\n    </tr>\n    <tr>\n      <th>263</th>\n      <td>SM2_2</td>\n      <td>for a plan push operation the readout plan ( t...</td>\n      <td>0</td>\n      <td>this process involve the smart meter be turn o...</td>\n      <td>0.0</td>\n      <td>0.0</td>\n      <td>0.0</td>\n      <td>0.0</td>\n      <td>0.0</td>\n      <td>0.0</td>\n    </tr>\n    <tr>\n      <th>264</th>\n      <td>SM2_2</td>\n      <td>if there be a time difference between 2 and 9 ...</td>\n      <td>0</td>\n      <td>this process involve the smart meter be turn o...</td>\n      <td>0.0</td>\n      <td>0.0</td>\n      <td>0.0</td>\n      <td>0.0</td>\n      <td>0.0</td>\n      <td>0.0</td>\n    </tr>\n    <tr>\n      <th>265</th>\n      <td>SM2_2</td>\n      <td>the operating limit of the meter be set by the...</td>\n      <td>0</td>\n      <td>this process involve the smart meter be turn o...</td>\n      <td>0.0</td>\n      <td>0.0</td>\n      <td>0.0</td>\n      <td>0.0</td>\n      <td>0.0</td>\n      <td>0.0</td>\n    </tr>\n  </tbody>\n</table>\n<p>266 rows × 10 columns</p>\n</div>"
     },
     "execution_count": 77,
     "metadata": {},
     "output_type": "execute_result"
    }
   ],
   "source": [
    "results_rnn"
   ],
   "metadata": {
    "collapsed": false,
    "ExecuteTime": {
     "end_time": "2024-01-26T11:06:03.422574Z",
     "start_time": "2024-01-26T11:06:03.415672Z"
    }
   },
   "id": "c578a18e7d010b67",
   "execution_count": 77
  },
  {
   "cell_type": "code",
   "outputs": [],
   "source": [
    "result_bert_base.rename(columns={'Bert_prediction': 'Bert_Base_Prediction'}, inplace=True)"
   ],
   "metadata": {
    "collapsed": false,
    "ExecuteTime": {
     "end_time": "2024-01-26T11:06:03.431651Z",
     "start_time": "2024-01-26T11:06:03.425170Z"
    }
   },
   "id": "d54389d218bf9bad",
   "execution_count": 78
  },
  {
   "cell_type": "code",
   "outputs": [],
   "source": [
    "result_bert_large.rename(columns={'Bert_prediction': 'Bert_Large_Prediction'}, inplace=True)"
   ],
   "metadata": {
    "collapsed": false,
    "ExecuteTime": {
     "end_time": "2024-01-26T11:06:03.464953Z",
     "start_time": "2024-01-26T11:06:03.428721Z"
    }
   },
   "id": "50e70bdb8ca53897",
   "execution_count": 79
  },
  {
   "cell_type": "code",
   "outputs": [
    {
     "data": {
      "text/plain": "                                                  Text  Label  \\\n0    we encourage you or your representative to tel...      1   \n1    you must co - operate at all time in relation ...      1   \n2    once we have all relevant information and have...      1   \n3    we comply with the principles of the privacy a...      1   \n4    we will tell you about the progress of your cl...      1   \n..                                                 ...    ...   \n261  the active power limit value of the meter must...      0   \n262  roasting software : with the quest link to a c...      0   \n263  for a plan push operation the readout plan ( t...      0   \n264  if there be a time difference between 2 and 9 ...      0   \n265  the operating limit of the meter be set by the...      0   \n\n                    Process  \\\n0    Travel Insurance Claim   \n1    Travel Insurance Claim   \n2    Travel Insurance Claim   \n3    Travel Insurance Claim   \n4    Travel Insurance Claim   \n..                      ...   \n261                   SM2_2   \n262                   SM2_2   \n263                   SM2_2   \n264                   SM2_2   \n265                   SM2_2   \n\n                                   Process_description  Cosine_Similarity  \\\n0    the process for a travel insurance claim invol...           0.761292   \n1    the process for a travel insurance claim invol...           0.766997   \n2    the process for a travel insurance claim invol...           0.805877   \n3    the process for a travel insurance claim invol...           0.716415   \n4    the process for a travel insurance claim invol...           0.784394   \n..                                                 ...                ...   \n261  this process involve the smart meter be turn o...           0.808548   \n262  this process involve the smart meter be turn o...           0.737274   \n263  this process involve the smart meter be turn o...           0.805773   \n264  this process involve the smart meter be turn o...           0.744640   \n265  this process involve the smart meter be turn o...           0.817634   \n\n     gpt_Cosine_Similarity_Prediction  fasttext_Cosine_Similarity_Prediction  \\\n0                                   1                                      1   \n1                                   1                                      1   \n2                                   1                                      1   \n3                                   0                                      1   \n4                                   1                                      1   \n..                                ...                                    ...   \n261                                 1                                      1   \n262                                 0                                      0   \n263                                 1                                      0   \n264                                 0                                      0   \n265                                 1                                      1   \n\n     word2vec_Cosine_Similarity_Prediction  \\\n0                                        1   \n1                                        0   \n2                                        1   \n3                                        1   \n4                                        1   \n..                                     ...   \n261                                      1   \n262                                      0   \n263                                      1   \n264                                      1   \n265                                      1   \n\n     glove_Cosine_Similarity_Prediction  bert_Cosine_Similarity_Prediction  \\\n0                                     0                                  1   \n1                                     1                                  1   \n2                                     1                                  1   \n3                                     1                                  1   \n4                                     0                                  1   \n..                                  ...                                ...   \n261                                   0                                  0   \n262                                   0                                  0   \n263                                   0                                  0   \n264                                   0                                  0   \n265                                   0                                  0   \n\n     tfidf_Cosine_Similarity_Prediction  \n0                                     0  \n1                                     0  \n2                                     1  \n3                                     0  \n4                                     1  \n..                                  ...  \n261                                   1  \n262                                   0  \n263                                   1  \n264                                   0  \n265                                   0  \n\n[266 rows x 11 columns]",
      "text/html": "<div>\n<style scoped>\n    .dataframe tbody tr th:only-of-type {\n        vertical-align: middle;\n    }\n\n    .dataframe tbody tr th {\n        vertical-align: top;\n    }\n\n    .dataframe thead th {\n        text-align: right;\n    }\n</style>\n<table border=\"1\" class=\"dataframe\">\n  <thead>\n    <tr style=\"text-align: right;\">\n      <th></th>\n      <th>Text</th>\n      <th>Label</th>\n      <th>Process</th>\n      <th>Process_description</th>\n      <th>Cosine_Similarity</th>\n      <th>gpt_Cosine_Similarity_Prediction</th>\n      <th>fasttext_Cosine_Similarity_Prediction</th>\n      <th>word2vec_Cosine_Similarity_Prediction</th>\n      <th>glove_Cosine_Similarity_Prediction</th>\n      <th>bert_Cosine_Similarity_Prediction</th>\n      <th>tfidf_Cosine_Similarity_Prediction</th>\n    </tr>\n  </thead>\n  <tbody>\n    <tr>\n      <th>0</th>\n      <td>we encourage you or your representative to tel...</td>\n      <td>1</td>\n      <td>Travel Insurance Claim</td>\n      <td>the process for a travel insurance claim invol...</td>\n      <td>0.761292</td>\n      <td>1</td>\n      <td>1</td>\n      <td>1</td>\n      <td>0</td>\n      <td>1</td>\n      <td>0</td>\n    </tr>\n    <tr>\n      <th>1</th>\n      <td>you must co - operate at all time in relation ...</td>\n      <td>1</td>\n      <td>Travel Insurance Claim</td>\n      <td>the process for a travel insurance claim invol...</td>\n      <td>0.766997</td>\n      <td>1</td>\n      <td>1</td>\n      <td>0</td>\n      <td>1</td>\n      <td>1</td>\n      <td>0</td>\n    </tr>\n    <tr>\n      <th>2</th>\n      <td>once we have all relevant information and have...</td>\n      <td>1</td>\n      <td>Travel Insurance Claim</td>\n      <td>the process for a travel insurance claim invol...</td>\n      <td>0.805877</td>\n      <td>1</td>\n      <td>1</td>\n      <td>1</td>\n      <td>1</td>\n      <td>1</td>\n      <td>1</td>\n    </tr>\n    <tr>\n      <th>3</th>\n      <td>we comply with the principles of the privacy a...</td>\n      <td>1</td>\n      <td>Travel Insurance Claim</td>\n      <td>the process for a travel insurance claim invol...</td>\n      <td>0.716415</td>\n      <td>0</td>\n      <td>1</td>\n      <td>1</td>\n      <td>1</td>\n      <td>1</td>\n      <td>0</td>\n    </tr>\n    <tr>\n      <th>4</th>\n      <td>we will tell you about the progress of your cl...</td>\n      <td>1</td>\n      <td>Travel Insurance Claim</td>\n      <td>the process for a travel insurance claim invol...</td>\n      <td>0.784394</td>\n      <td>1</td>\n      <td>1</td>\n      <td>1</td>\n      <td>0</td>\n      <td>1</td>\n      <td>1</td>\n    </tr>\n    <tr>\n      <th>...</th>\n      <td>...</td>\n      <td>...</td>\n      <td>...</td>\n      <td>...</td>\n      <td>...</td>\n      <td>...</td>\n      <td>...</td>\n      <td>...</td>\n      <td>...</td>\n      <td>...</td>\n      <td>...</td>\n    </tr>\n    <tr>\n      <th>261</th>\n      <td>the active power limit value of the meter must...</td>\n      <td>0</td>\n      <td>SM2_2</td>\n      <td>this process involve the smart meter be turn o...</td>\n      <td>0.808548</td>\n      <td>1</td>\n      <td>1</td>\n      <td>1</td>\n      <td>0</td>\n      <td>0</td>\n      <td>1</td>\n    </tr>\n    <tr>\n      <th>262</th>\n      <td>roasting software : with the quest link to a c...</td>\n      <td>0</td>\n      <td>SM2_2</td>\n      <td>this process involve the smart meter be turn o...</td>\n      <td>0.737274</td>\n      <td>0</td>\n      <td>0</td>\n      <td>0</td>\n      <td>0</td>\n      <td>0</td>\n      <td>0</td>\n    </tr>\n    <tr>\n      <th>263</th>\n      <td>for a plan push operation the readout plan ( t...</td>\n      <td>0</td>\n      <td>SM2_2</td>\n      <td>this process involve the smart meter be turn o...</td>\n      <td>0.805773</td>\n      <td>1</td>\n      <td>0</td>\n      <td>1</td>\n      <td>0</td>\n      <td>0</td>\n      <td>1</td>\n    </tr>\n    <tr>\n      <th>264</th>\n      <td>if there be a time difference between 2 and 9 ...</td>\n      <td>0</td>\n      <td>SM2_2</td>\n      <td>this process involve the smart meter be turn o...</td>\n      <td>0.744640</td>\n      <td>0</td>\n      <td>0</td>\n      <td>1</td>\n      <td>0</td>\n      <td>0</td>\n      <td>0</td>\n    </tr>\n    <tr>\n      <th>265</th>\n      <td>the operating limit of the meter be set by the...</td>\n      <td>0</td>\n      <td>SM2_2</td>\n      <td>this process involve the smart meter be turn o...</td>\n      <td>0.817634</td>\n      <td>1</td>\n      <td>1</td>\n      <td>1</td>\n      <td>0</td>\n      <td>0</td>\n      <td>0</td>\n    </tr>\n  </tbody>\n</table>\n<p>266 rows × 11 columns</p>\n</div>"
     },
     "execution_count": 80,
     "metadata": {},
     "output_type": "execute_result"
    }
   ],
   "source": [
    "results_cosine_similarity"
   ],
   "metadata": {
    "collapsed": false,
    "ExecuteTime": {
     "end_time": "2024-01-26T11:06:03.497005Z",
     "start_time": "2024-01-26T11:06:03.438109Z"
    }
   },
   "id": "91bce0a6bcb63ca6",
   "execution_count": 80
  },
  {
   "cell_type": "code",
   "outputs": [],
   "source": [
    "merged_results = pd.merge(result_bert_base, result_bert_large, on=['Process', 'Text', 'Label', 'Process_description'],\n",
    "                          how='outer')\n",
    "merged_results = pd.merge(merged_results, results_gpt, on=['Process', 'Text', 'Label', 'Process_description'],\n",
    "                          how='outer')\n",
    "merged_results = pd.merge(merged_results, results_rnn, on=['Process', 'Text', 'Label', 'Process_description'],\n",
    "                          how='outer')\n",
    "merged_results = pd.merge(merged_results, results_rnn_tuned, on=['Process', 'Text', 'Label', 'Process_description'],\n",
    "                          how='outer')\n",
    "merged_results = pd.merge(merged_results, results_mean_cenroid,\n",
    "                          on=['Process', 'Text', 'Label', 'Process_description'], how='outer')\n",
    "merged_results = pd.merge(merged_results, results_cosine_similarity,\n",
    "                          on=['Process', 'Text', 'Label', 'Process_description'], how='outer')\n"
   ],
   "metadata": {
    "collapsed": false,
    "ExecuteTime": {
     "end_time": "2024-01-26T13:39:28.685768Z",
     "start_time": "2024-01-26T13:39:28.628203Z"
    }
   },
   "id": "1eed1320a0f4704e",
   "execution_count": 87
  },
  {
   "cell_type": "code",
   "outputs": [
    {
     "data": {
      "text/plain": "Index(['Process', 'Text', 'Label', 'Process_description', 'Combined_Text_x',\n       'Bert_prediction_x', 'Combined_Text_y', 'Bert_prediction_y',\n       'gpt_prompt', 'GPT_Prediction', 'gpt_RNN_Prediction',\n       'fasttext_RNN_Prediction', 'word2vec_RNN_Prediction',\n       'glove_RNN_Prediction', 'bert_RNN_Prediction', 'tfidf_RNN_Prediction',\n       'gpt_RNN_Prediction_Tuned', 'fasttext_RNN_Prediction_Tuned',\n       'word2vec_RNN_Prediction_Tuned', 'glove_RNN_Prediction_Tuned',\n       'bert_RNN_Prediction_Tuned', 'tfidf_RNN_Prediction_Tuned',\n       'gpt_Mean_Centroid_Predictions', 'fasttext_Mean_Centroid_Predictions',\n       'word2vec_Mean_Centroid_Predictions', 'glove_Mean_Centroid_Predictions',\n       'bert_Mean_Centroid_Predictions', 'tfidf_Mean_Centroid_Predictions',\n       'Cosine_Similarity', 'gpt_Cosine_Similarity_Prediction',\n       'fasttext_Cosine_Similarity_Prediction',\n       'word2vec_Cosine_Similarity_Prediction',\n       'glove_Cosine_Similarity_Prediction',\n       'bert_Cosine_Similarity_Prediction',\n       'tfidf_Cosine_Similarity_Prediction'],\n      dtype='object')"
     },
     "execution_count": 88,
     "metadata": {},
     "output_type": "execute_result"
    }
   ],
   "source": [
    "merged_results.columns"
   ],
   "metadata": {
    "collapsed": false,
    "ExecuteTime": {
     "end_time": "2024-01-26T13:39:31.027791Z",
     "start_time": "2024-01-26T13:39:31.016348Z"
    }
   },
   "id": "ed0c2b0872b1a289",
   "execution_count": 88
  },
  {
   "cell_type": "code",
   "outputs": [],
   "source": [
    "merged_results.drop(['Combined_Text_y', 'Combined_Text_x', 'gpt_prompt', 'Cosine_Similarity'], axis=1, inplace=True)"
   ],
   "metadata": {
    "collapsed": false,
    "ExecuteTime": {
     "end_time": "2024-01-26T13:39:49.325897Z",
     "start_time": "2024-01-26T13:39:49.321310Z"
    }
   },
   "id": "745a4ee1d79216f0",
   "execution_count": 89
  },
  {
   "cell_type": "code",
   "outputs": [],
   "source": [
    "merged_results.to_csv(\n",
    "    (project_dir / \"TUM-NLP-Praktikum/references/model results/test_data_with_advanced_predictions.csv\"), index=False)"
   ],
   "metadata": {
    "collapsed": false,
    "ExecuteTime": {
     "end_time": "2024-01-26T13:39:50.354229Z",
     "start_time": "2024-01-26T13:39:50.341182Z"
    }
   },
   "id": "73c24616f5e0d803",
   "execution_count": 90
  }
 ],
 "metadata": {
  "kernelspec": {
   "display_name": "Python 3",
   "language": "python",
   "name": "python3"
  },
  "language_info": {
   "codemirror_mode": {
    "name": "ipython",
    "version": 2
   },
   "file_extension": ".py",
   "mimetype": "text/x-python",
   "name": "python",
   "nbconvert_exporter": "python",
   "pygments_lexer": "ipython2",
   "version": "2.7.6"
  }
 },
 "nbformat": 4,
 "nbformat_minor": 5
}
