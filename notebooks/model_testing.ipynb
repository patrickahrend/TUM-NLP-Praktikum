{
 "cells": [
  {
   "cell_type": "code",
   "execution_count": 9,
   "id": "initial_id",
   "metadata": {
    "collapsed": true,
    "jupyter": {
     "outputs_hidden": true
    },
    "ExecuteTime": {
     "end_time": "2023-12-30T13:32:34.633203Z",
     "start_time": "2023-12-30T13:32:32.810598Z"
    }
   },
   "outputs": [
    {
     "name": "stdout",
     "output_type": "stream",
     "text": [
      "Requirement already satisfied: lazypredict in /Users/patrickahrend/Developer/TUM-NLP-Praktikum/.venv/lib/python3.9/site-packages (0.2.12)\r\n",
      "Requirement already satisfied: click in /Users/patrickahrend/Developer/TUM-NLP-Praktikum/.venv/lib/python3.9/site-packages (from lazypredict) (8.1.7)\r\n",
      "Requirement already satisfied: scikit-learn in /Users/patrickahrend/Developer/TUM-NLP-Praktikum/.venv/lib/python3.9/site-packages (from lazypredict) (1.3.2)\r\n",
      "Requirement already satisfied: pandas in /Users/patrickahrend/Developer/TUM-NLP-Praktikum/.venv/lib/python3.9/site-packages (from lazypredict) (2.1.4)\r\n",
      "Requirement already satisfied: tqdm in /Users/patrickahrend/Developer/TUM-NLP-Praktikum/.venv/lib/python3.9/site-packages (from lazypredict) (4.66.1)\r\n",
      "Requirement already satisfied: joblib in /Users/patrickahrend/Developer/TUM-NLP-Praktikum/.venv/lib/python3.9/site-packages (from lazypredict) (1.3.2)\r\n",
      "Requirement already satisfied: lightgbm in /Users/patrickahrend/Developer/TUM-NLP-Praktikum/.venv/lib/python3.9/site-packages (from lazypredict) (4.2.0)\r\n",
      "Requirement already satisfied: xgboost in /Users/patrickahrend/Developer/TUM-NLP-Praktikum/.venv/lib/python3.9/site-packages (from lazypredict) (2.0.3)\r\n",
      "Requirement already satisfied: numpy in /Users/patrickahrend/Developer/TUM-NLP-Praktikum/.venv/lib/python3.9/site-packages (from lightgbm->lazypredict) (1.26.2)\r\n",
      "Requirement already satisfied: scipy in /Users/patrickahrend/Developer/TUM-NLP-Praktikum/.venv/lib/python3.9/site-packages (from lightgbm->lazypredict) (1.11.4)\r\n",
      "Requirement already satisfied: python-dateutil>=2.8.2 in /Users/patrickahrend/Developer/TUM-NLP-Praktikum/.venv/lib/python3.9/site-packages (from pandas->lazypredict) (2.8.2)\r\n",
      "Requirement already satisfied: pytz>=2020.1 in /Users/patrickahrend/Developer/TUM-NLP-Praktikum/.venv/lib/python3.9/site-packages (from pandas->lazypredict) (2023.3.post1)\r\n",
      "Requirement already satisfied: tzdata>=2022.1 in /Users/patrickahrend/Developer/TUM-NLP-Praktikum/.venv/lib/python3.9/site-packages (from pandas->lazypredict) (2023.3)\r\n",
      "Requirement already satisfied: threadpoolctl>=2.0.0 in /Users/patrickahrend/Developer/TUM-NLP-Praktikum/.venv/lib/python3.9/site-packages (from scikit-learn->lazypredict) (3.2.0)\r\n",
      "Requirement already satisfied: six>=1.5 in /Users/patrickahrend/Developer/TUM-NLP-Praktikum/.venv/lib/python3.9/site-packages (from python-dateutil>=2.8.2->pandas->lazypredict) (1.16.0)\r\n",
      "\u001B[33mWARNING: There was an error checking the latest version of pip.\u001B[0m\u001B[33m\r\n",
      "\u001B[0m"
     ]
    }
   ],
   "source": [
    "!pip install lazypredict "
   ]
  },
  {
   "cell_type": "code",
   "execution_count": 8,
   "id": "98fdc837870a2dd6",
   "metadata": {
    "collapsed": false,
    "ExecuteTime": {
     "end_time": "2023-12-30T13:32:32.757997Z",
     "start_time": "2023-12-30T13:32:30.079529Z"
    }
   },
   "outputs": [
    {
     "name": "stdout",
     "output_type": "stream",
     "text": [
      "Collecting lightgbm\r\n",
      "  Using cached lightgbm-4.2.0-py3-none-macosx_10_15_x86_64.macosx_11_6_x86_64.macosx_12_5_x86_64.whl (1.8 MB)\r\n",
      "Requirement already satisfied: xgboost in /Users/patrickahrend/Developer/TUM-NLP-Praktikum/.venv/lib/python3.9/site-packages (2.0.3)\r\n",
      "Requirement already satisfied: numpy in /Users/patrickahrend/Developer/TUM-NLP-Praktikum/.venv/lib/python3.9/site-packages (from lightgbm) (1.26.2)\r\n",
      "Requirement already satisfied: scipy in /Users/patrickahrend/Developer/TUM-NLP-Praktikum/.venv/lib/python3.9/site-packages (from lightgbm) (1.11.4)\r\n",
      "Installing collected packages: lightgbm\r\n",
      "Successfully installed lightgbm-4.2.0\r\n",
      "\u001B[33mWARNING: There was an error checking the latest version of pip.\u001B[0m\u001B[33m\r\n",
      "\u001B[0m"
     ]
    }
   ],
   "source": [
    "!pip install lightgbm xgboost"
   ]
  },
  {
   "cell_type": "code",
   "outputs": [],
   "source": [
    "!export DYLD_LIBRARY_PATH=/usr/local/opt/libomp/lib:$DYLD_LIBRARY_PATH\n"
   ],
   "metadata": {
    "collapsed": false,
    "ExecuteTime": {
     "end_time": "2023-12-30T13:20:50.476016Z",
     "start_time": "2023-12-30T13:20:50.338451Z"
    }
   },
   "id": "a5a8721b611be08d",
   "execution_count": 4
  },
  {
   "cell_type": "code",
   "execution_count": 3,
   "id": "1bf5f829-2ba5-493b-838b-569ad1f4badc",
   "metadata": {
    "ExecuteTime": {
     "end_time": "2023-12-30T13:05:38.249339Z",
     "start_time": "2023-12-30T13:05:38.243938Z"
    }
   },
   "outputs": [],
   "source": [
    "import os\n",
    "\n",
    "os.environ['LDFLAGS'] = '-L/opt/homebrew/opt/libomp/lib'\n",
    "os.environ['CPPFLAGS'] = '-I/opt/homebrew/opt/libomp/include'\n"
   ]
  },
  {
   "cell_type": "code",
   "execution_count": 10,
   "id": "37bee1dd49570521",
   "metadata": {
    "collapsed": false,
    "ExecuteTime": {
     "end_time": "2023-12-30T13:32:41.381554Z",
     "start_time": "2023-12-30T13:32:40.224341Z"
    }
   },
   "outputs": [
    {
     "ename": "OSError",
     "evalue": "dlopen(/Users/patrickahrend/Developer/TUM-NLP-Praktikum/.venv/lib/python3.9/site-packages/lightgbm/lib/lib_lightgbm.so, 0x0006): Library not loaded: /usr/local/opt/libomp/lib/libomp.dylib\n  Referenced from: <AF2B35E2-56EE-3669-88A6-BBD75577D81F> /Users/patrickahrend/Developer/TUM-NLP-Praktikum/.venv/lib/python3.9/site-packages/lightgbm/lib/lib_lightgbm.so\n  Reason: tried: '/usr/local/opt/libomp/lib/libomp.dylib' (no such file), '/System/Volumes/Preboot/Cryptexes/OS/usr/local/opt/libomp/lib/libomp.dylib' (no such file), '/usr/local/opt/libomp/lib/libomp.dylib' (no such file), '/usr/local/lib/libomp.dylib' (no such file), '/usr/lib/libomp.dylib' (no such file, not in dyld cache)",
     "output_type": "error",
     "traceback": [
      "\u001B[0;31m---------------------------------------------------------------------------\u001B[0m",
      "\u001B[0;31mOSError\u001B[0m                                   Traceback (most recent call last)",
      "Cell \u001B[0;32mIn[10], line 1\u001B[0m\n\u001B[0;32m----> 1\u001B[0m \u001B[38;5;28;01mimport\u001B[39;00m \u001B[38;5;21;01mlightgbm\u001B[39;00m \u001B[38;5;28;01mas\u001B[39;00m \u001B[38;5;21;01mlgb\u001B[39;00m\n\u001B[1;32m      3\u001B[0m \u001B[38;5;28mprint\u001B[39m(lgb\u001B[38;5;241m.\u001B[39m__version__)\n",
      "File \u001B[0;32m~/Developer/TUM-NLP-Praktikum/.venv/lib/python3.9/site-packages/lightgbm/__init__.py:8\u001B[0m\n\u001B[1;32m      2\u001B[0m \u001B[38;5;124;03m\"\"\"LightGBM, Light Gradient Boosting Machine.\u001B[39;00m\n\u001B[1;32m      3\u001B[0m \n\u001B[1;32m      4\u001B[0m \u001B[38;5;124;03mContributors: https://github.com/microsoft/LightGBM/graphs/contributors.\u001B[39;00m\n\u001B[1;32m      5\u001B[0m \u001B[38;5;124;03m\"\"\"\u001B[39;00m\n\u001B[1;32m      6\u001B[0m \u001B[38;5;28;01mfrom\u001B[39;00m \u001B[38;5;21;01mpathlib\u001B[39;00m \u001B[38;5;28;01mimport\u001B[39;00m Path\n\u001B[0;32m----> 8\u001B[0m \u001B[38;5;28;01mfrom\u001B[39;00m \u001B[38;5;21;01m.\u001B[39;00m\u001B[38;5;21;01mbasic\u001B[39;00m \u001B[38;5;28;01mimport\u001B[39;00m Booster, Dataset, Sequence, register_logger\n\u001B[1;32m      9\u001B[0m \u001B[38;5;28;01mfrom\u001B[39;00m \u001B[38;5;21;01m.\u001B[39;00m\u001B[38;5;21;01mcallback\u001B[39;00m \u001B[38;5;28;01mimport\u001B[39;00m EarlyStopException, early_stopping, log_evaluation, record_evaluation, reset_parameter\n\u001B[1;32m     10\u001B[0m \u001B[38;5;28;01mfrom\u001B[39;00m \u001B[38;5;21;01m.\u001B[39;00m\u001B[38;5;21;01mengine\u001B[39;00m \u001B[38;5;28;01mimport\u001B[39;00m CVBooster, cv, train\n",
      "File \u001B[0;32m~/Developer/TUM-NLP-Praktikum/.venv/lib/python3.9/site-packages/lightgbm/basic.py:247\u001B[0m\n\u001B[1;32m    245\u001B[0m     _LIB \u001B[38;5;241m=\u001B[39m Mock(ctypes\u001B[38;5;241m.\u001B[39mCDLL)  \u001B[38;5;66;03m# type: ignore\u001B[39;00m\n\u001B[1;32m    246\u001B[0m \u001B[38;5;28;01melse\u001B[39;00m:\n\u001B[0;32m--> 247\u001B[0m     _LIB \u001B[38;5;241m=\u001B[39m \u001B[43m_load_lib\u001B[49m\u001B[43m(\u001B[49m\u001B[43m)\u001B[49m\n\u001B[1;32m    250\u001B[0m _NUMERIC_TYPES \u001B[38;5;241m=\u001B[39m (\u001B[38;5;28mint\u001B[39m, \u001B[38;5;28mfloat\u001B[39m, \u001B[38;5;28mbool\u001B[39m)\n\u001B[1;32m    251\u001B[0m _ArrayLike \u001B[38;5;241m=\u001B[39m Union[List, np\u001B[38;5;241m.\u001B[39mndarray, pd_Series]\n",
      "File \u001B[0;32m~/Developer/TUM-NLP-Praktikum/.venv/lib/python3.9/site-packages/lightgbm/basic.py:232\u001B[0m, in \u001B[0;36m_load_lib\u001B[0;34m()\u001B[0m\n\u001B[1;32m    230\u001B[0m \u001B[38;5;250m\u001B[39m\u001B[38;5;124;03m\"\"\"Load LightGBM library.\"\"\"\u001B[39;00m\n\u001B[1;32m    231\u001B[0m lib_path \u001B[38;5;241m=\u001B[39m find_lib_path()\n\u001B[0;32m--> 232\u001B[0m lib \u001B[38;5;241m=\u001B[39m \u001B[43mctypes\u001B[49m\u001B[38;5;241;43m.\u001B[39;49m\u001B[43mcdll\u001B[49m\u001B[38;5;241;43m.\u001B[39;49m\u001B[43mLoadLibrary\u001B[49m\u001B[43m(\u001B[49m\u001B[43mlib_path\u001B[49m\u001B[43m[\u001B[49m\u001B[38;5;241;43m0\u001B[39;49m\u001B[43m]\u001B[49m\u001B[43m)\u001B[49m\n\u001B[1;32m    233\u001B[0m lib\u001B[38;5;241m.\u001B[39mLGBM_GetLastError\u001B[38;5;241m.\u001B[39mrestype \u001B[38;5;241m=\u001B[39m ctypes\u001B[38;5;241m.\u001B[39mc_char_p\n\u001B[1;32m    234\u001B[0m callback \u001B[38;5;241m=\u001B[39m ctypes\u001B[38;5;241m.\u001B[39mCFUNCTYPE(\u001B[38;5;28;01mNone\u001B[39;00m, ctypes\u001B[38;5;241m.\u001B[39mc_char_p)\n",
      "File \u001B[0;32m/opt/homebrew/Caskroom/miniconda/base/lib/python3.9/ctypes/__init__.py:452\u001B[0m, in \u001B[0;36mLibraryLoader.LoadLibrary\u001B[0;34m(self, name)\u001B[0m\n\u001B[1;32m    451\u001B[0m \u001B[38;5;28;01mdef\u001B[39;00m \u001B[38;5;21mLoadLibrary\u001B[39m(\u001B[38;5;28mself\u001B[39m, name):\n\u001B[0;32m--> 452\u001B[0m     \u001B[38;5;28;01mreturn\u001B[39;00m \u001B[38;5;28;43mself\u001B[39;49m\u001B[38;5;241;43m.\u001B[39;49m\u001B[43m_dlltype\u001B[49m\u001B[43m(\u001B[49m\u001B[43mname\u001B[49m\u001B[43m)\u001B[49m\n",
      "File \u001B[0;32m/opt/homebrew/Caskroom/miniconda/base/lib/python3.9/ctypes/__init__.py:374\u001B[0m, in \u001B[0;36mCDLL.__init__\u001B[0;34m(self, name, mode, handle, use_errno, use_last_error, winmode)\u001B[0m\n\u001B[1;32m    371\u001B[0m \u001B[38;5;28mself\u001B[39m\u001B[38;5;241m.\u001B[39m_FuncPtr \u001B[38;5;241m=\u001B[39m _FuncPtr\n\u001B[1;32m    373\u001B[0m \u001B[38;5;28;01mif\u001B[39;00m handle \u001B[38;5;129;01mis\u001B[39;00m \u001B[38;5;28;01mNone\u001B[39;00m:\n\u001B[0;32m--> 374\u001B[0m     \u001B[38;5;28mself\u001B[39m\u001B[38;5;241m.\u001B[39m_handle \u001B[38;5;241m=\u001B[39m \u001B[43m_dlopen\u001B[49m\u001B[43m(\u001B[49m\u001B[38;5;28;43mself\u001B[39;49m\u001B[38;5;241;43m.\u001B[39;49m\u001B[43m_name\u001B[49m\u001B[43m,\u001B[49m\u001B[43m \u001B[49m\u001B[43mmode\u001B[49m\u001B[43m)\u001B[49m\n\u001B[1;32m    375\u001B[0m \u001B[38;5;28;01melse\u001B[39;00m:\n\u001B[1;32m    376\u001B[0m     \u001B[38;5;28mself\u001B[39m\u001B[38;5;241m.\u001B[39m_handle \u001B[38;5;241m=\u001B[39m handle\n",
      "\u001B[0;31mOSError\u001B[0m: dlopen(/Users/patrickahrend/Developer/TUM-NLP-Praktikum/.venv/lib/python3.9/site-packages/lightgbm/lib/lib_lightgbm.so, 0x0006): Library not loaded: /usr/local/opt/libomp/lib/libomp.dylib\n  Referenced from: <AF2B35E2-56EE-3669-88A6-BBD75577D81F> /Users/patrickahrend/Developer/TUM-NLP-Praktikum/.venv/lib/python3.9/site-packages/lightgbm/lib/lib_lightgbm.so\n  Reason: tried: '/usr/local/opt/libomp/lib/libomp.dylib' (no such file), '/System/Volumes/Preboot/Cryptexes/OS/usr/local/opt/libomp/lib/libomp.dylib' (no such file), '/usr/local/opt/libomp/lib/libomp.dylib' (no such file), '/usr/local/lib/libomp.dylib' (no such file), '/usr/lib/libomp.dylib' (no such file, not in dyld cache)"
     ]
    }
   ],
   "source": [
    "import lightgbm as lgb\n",
    "\n",
    "print(lgb.__version__)"
   ]
  },
  {
   "cell_type": "code",
   "execution_count": 13,
   "id": "d485d922ab3b6821",
   "metadata": {
    "collapsed": false,
    "ExecuteTime": {
     "end_time": "2023-12-30T16:24:38.804174Z",
     "start_time": "2023-12-30T16:24:38.074339Z"
    }
   },
   "outputs": [
    {
     "ename": "OSError",
     "evalue": "dlopen(/Users/patrickahrend/Developer/TUM-NLP-Praktikum/.venv/lib/python3.9/site-packages/lightgbm/lib/lib_lightgbm.so, 0x0006): Library not loaded: /usr/local/opt/libomp/lib/libomp.dylib\n  Referenced from: <AF2B35E2-56EE-3669-88A6-BBD75577D81F> /Users/patrickahrend/Developer/TUM-NLP-Praktikum/.venv/lib/python3.9/site-packages/lightgbm/lib/lib_lightgbm.so\n  Reason: tried: '/usr/local/opt/libomp/lib/libomp.dylib' (no such file), '/System/Volumes/Preboot/Cryptexes/OS/usr/local/opt/libomp/lib/libomp.dylib' (no such file), '/usr/local/opt/libomp/lib/libomp.dylib' (no such file), '/usr/local/lib/libomp.dylib' (no such file), '/usr/lib/libomp.dylib' (no such file, not in dyld cache)",
     "output_type": "error",
     "traceback": [
      "\u001B[0;31m---------------------------------------------------------------------------\u001B[0m",
      "\u001B[0;31mOSError\u001B[0m                                   Traceback (most recent call last)",
      "Cell \u001B[0;32mIn[13], line 5\u001B[0m\n\u001B[1;32m      2\u001B[0m \u001B[38;5;28;01mfrom\u001B[39;00m \u001B[38;5;21;01mpathlib\u001B[39;00m \u001B[38;5;28;01mimport\u001B[39;00m Path\n\u001B[1;32m      4\u001B[0m \u001B[38;5;28;01mimport\u001B[39;00m \u001B[38;5;21;01mpandas\u001B[39;00m \u001B[38;5;28;01mas\u001B[39;00m \u001B[38;5;21;01mpd\u001B[39;00m\n\u001B[0;32m----> 5\u001B[0m \u001B[38;5;28;01mfrom\u001B[39;00m \u001B[38;5;21;01mlazypredict\u001B[39;00m\u001B[38;5;21;01m.\u001B[39;00m\u001B[38;5;21;01mSupervised\u001B[39;00m \u001B[38;5;28;01mimport\u001B[39;00m LazyClassifier\n\u001B[1;32m      6\u001B[0m \u001B[38;5;28;01mfrom\u001B[39;00m \u001B[38;5;21;01msklearn\u001B[39;00m\u001B[38;5;21;01m.\u001B[39;00m\u001B[38;5;21;01mmodel_selection\u001B[39;00m \u001B[38;5;28;01mimport\u001B[39;00m train_test_split\n\u001B[1;32m      8\u001B[0m \u001B[38;5;66;03m# Set the project directory path\u001B[39;00m\n",
      "File \u001B[0;32m~/Developer/TUM-NLP-Praktikum/.venv/lib/python3.9/site-packages/lazypredict/Supervised.py:30\u001B[0m\n\u001B[1;32m     27\u001B[0m \u001B[38;5;28;01mimport\u001B[39;00m \u001B[38;5;21;01mxgboost\u001B[39;00m\n\u001B[1;32m     29\u001B[0m \u001B[38;5;66;03m# import catboost\u001B[39;00m\n\u001B[0;32m---> 30\u001B[0m \u001B[38;5;28;01mimport\u001B[39;00m \u001B[38;5;21;01mlightgbm\u001B[39;00m\n\u001B[1;32m     32\u001B[0m warnings\u001B[38;5;241m.\u001B[39mfilterwarnings(\u001B[38;5;124m\"\u001B[39m\u001B[38;5;124mignore\u001B[39m\u001B[38;5;124m\"\u001B[39m)\n\u001B[1;32m     33\u001B[0m pd\u001B[38;5;241m.\u001B[39mset_option(\u001B[38;5;124m\"\u001B[39m\u001B[38;5;124mdisplay.precision\u001B[39m\u001B[38;5;124m\"\u001B[39m, \u001B[38;5;241m2\u001B[39m)\n",
      "File \u001B[0;32m~/Developer/TUM-NLP-Praktikum/.venv/lib/python3.9/site-packages/lightgbm/__init__.py:8\u001B[0m\n\u001B[1;32m      2\u001B[0m \u001B[38;5;124;03m\"\"\"LightGBM, Light Gradient Boosting Machine.\u001B[39;00m\n\u001B[1;32m      3\u001B[0m \n\u001B[1;32m      4\u001B[0m \u001B[38;5;124;03mContributors: https://github.com/microsoft/LightGBM/graphs/contributors.\u001B[39;00m\n\u001B[1;32m      5\u001B[0m \u001B[38;5;124;03m\"\"\"\u001B[39;00m\n\u001B[1;32m      6\u001B[0m \u001B[38;5;28;01mfrom\u001B[39;00m \u001B[38;5;21;01mpathlib\u001B[39;00m \u001B[38;5;28;01mimport\u001B[39;00m Path\n\u001B[0;32m----> 8\u001B[0m \u001B[38;5;28;01mfrom\u001B[39;00m \u001B[38;5;21;01m.\u001B[39;00m\u001B[38;5;21;01mbasic\u001B[39;00m \u001B[38;5;28;01mimport\u001B[39;00m Booster, Dataset, Sequence, register_logger\n\u001B[1;32m      9\u001B[0m \u001B[38;5;28;01mfrom\u001B[39;00m \u001B[38;5;21;01m.\u001B[39;00m\u001B[38;5;21;01mcallback\u001B[39;00m \u001B[38;5;28;01mimport\u001B[39;00m EarlyStopException, early_stopping, log_evaluation, record_evaluation, reset_parameter\n\u001B[1;32m     10\u001B[0m \u001B[38;5;28;01mfrom\u001B[39;00m \u001B[38;5;21;01m.\u001B[39;00m\u001B[38;5;21;01mengine\u001B[39;00m \u001B[38;5;28;01mimport\u001B[39;00m CVBooster, cv, train\n",
      "File \u001B[0;32m~/Developer/TUM-NLP-Praktikum/.venv/lib/python3.9/site-packages/lightgbm/basic.py:247\u001B[0m\n\u001B[1;32m    245\u001B[0m     _LIB \u001B[38;5;241m=\u001B[39m Mock(ctypes\u001B[38;5;241m.\u001B[39mCDLL)  \u001B[38;5;66;03m# type: ignore\u001B[39;00m\n\u001B[1;32m    246\u001B[0m \u001B[38;5;28;01melse\u001B[39;00m:\n\u001B[0;32m--> 247\u001B[0m     _LIB \u001B[38;5;241m=\u001B[39m \u001B[43m_load_lib\u001B[49m\u001B[43m(\u001B[49m\u001B[43m)\u001B[49m\n\u001B[1;32m    250\u001B[0m _NUMERIC_TYPES \u001B[38;5;241m=\u001B[39m (\u001B[38;5;28mint\u001B[39m, \u001B[38;5;28mfloat\u001B[39m, \u001B[38;5;28mbool\u001B[39m)\n\u001B[1;32m    251\u001B[0m _ArrayLike \u001B[38;5;241m=\u001B[39m Union[List, np\u001B[38;5;241m.\u001B[39mndarray, pd_Series]\n",
      "File \u001B[0;32m~/Developer/TUM-NLP-Praktikum/.venv/lib/python3.9/site-packages/lightgbm/basic.py:232\u001B[0m, in \u001B[0;36m_load_lib\u001B[0;34m()\u001B[0m\n\u001B[1;32m    230\u001B[0m \u001B[38;5;250m\u001B[39m\u001B[38;5;124;03m\"\"\"Load LightGBM library.\"\"\"\u001B[39;00m\n\u001B[1;32m    231\u001B[0m lib_path \u001B[38;5;241m=\u001B[39m find_lib_path()\n\u001B[0;32m--> 232\u001B[0m lib \u001B[38;5;241m=\u001B[39m \u001B[43mctypes\u001B[49m\u001B[38;5;241;43m.\u001B[39;49m\u001B[43mcdll\u001B[49m\u001B[38;5;241;43m.\u001B[39;49m\u001B[43mLoadLibrary\u001B[49m\u001B[43m(\u001B[49m\u001B[43mlib_path\u001B[49m\u001B[43m[\u001B[49m\u001B[38;5;241;43m0\u001B[39;49m\u001B[43m]\u001B[49m\u001B[43m)\u001B[49m\n\u001B[1;32m    233\u001B[0m lib\u001B[38;5;241m.\u001B[39mLGBM_GetLastError\u001B[38;5;241m.\u001B[39mrestype \u001B[38;5;241m=\u001B[39m ctypes\u001B[38;5;241m.\u001B[39mc_char_p\n\u001B[1;32m    234\u001B[0m callback \u001B[38;5;241m=\u001B[39m ctypes\u001B[38;5;241m.\u001B[39mCFUNCTYPE(\u001B[38;5;28;01mNone\u001B[39;00m, ctypes\u001B[38;5;241m.\u001B[39mc_char_p)\n",
      "File \u001B[0;32m/opt/homebrew/Caskroom/miniconda/base/lib/python3.9/ctypes/__init__.py:452\u001B[0m, in \u001B[0;36mLibraryLoader.LoadLibrary\u001B[0;34m(self, name)\u001B[0m\n\u001B[1;32m    451\u001B[0m \u001B[38;5;28;01mdef\u001B[39;00m \u001B[38;5;21mLoadLibrary\u001B[39m(\u001B[38;5;28mself\u001B[39m, name):\n\u001B[0;32m--> 452\u001B[0m     \u001B[38;5;28;01mreturn\u001B[39;00m \u001B[38;5;28;43mself\u001B[39;49m\u001B[38;5;241;43m.\u001B[39;49m\u001B[43m_dlltype\u001B[49m\u001B[43m(\u001B[49m\u001B[43mname\u001B[49m\u001B[43m)\u001B[49m\n",
      "File \u001B[0;32m/opt/homebrew/Caskroom/miniconda/base/lib/python3.9/ctypes/__init__.py:374\u001B[0m, in \u001B[0;36mCDLL.__init__\u001B[0;34m(self, name, mode, handle, use_errno, use_last_error, winmode)\u001B[0m\n\u001B[1;32m    371\u001B[0m \u001B[38;5;28mself\u001B[39m\u001B[38;5;241m.\u001B[39m_FuncPtr \u001B[38;5;241m=\u001B[39m _FuncPtr\n\u001B[1;32m    373\u001B[0m \u001B[38;5;28;01mif\u001B[39;00m handle \u001B[38;5;129;01mis\u001B[39;00m \u001B[38;5;28;01mNone\u001B[39;00m:\n\u001B[0;32m--> 374\u001B[0m     \u001B[38;5;28mself\u001B[39m\u001B[38;5;241m.\u001B[39m_handle \u001B[38;5;241m=\u001B[39m \u001B[43m_dlopen\u001B[49m\u001B[43m(\u001B[49m\u001B[38;5;28;43mself\u001B[39;49m\u001B[38;5;241;43m.\u001B[39;49m\u001B[43m_name\u001B[49m\u001B[43m,\u001B[49m\u001B[43m \u001B[49m\u001B[43mmode\u001B[49m\u001B[43m)\u001B[49m\n\u001B[1;32m    375\u001B[0m \u001B[38;5;28;01melse\u001B[39;00m:\n\u001B[1;32m    376\u001B[0m     \u001B[38;5;28mself\u001B[39m\u001B[38;5;241m.\u001B[39m_handle \u001B[38;5;241m=\u001B[39m handle\n",
      "\u001B[0;31mOSError\u001B[0m: dlopen(/Users/patrickahrend/Developer/TUM-NLP-Praktikum/.venv/lib/python3.9/site-packages/lightgbm/lib/lib_lightgbm.so, 0x0006): Library not loaded: /usr/local/opt/libomp/lib/libomp.dylib\n  Referenced from: <AF2B35E2-56EE-3669-88A6-BBD75577D81F> /Users/patrickahrend/Developer/TUM-NLP-Praktikum/.venv/lib/python3.9/site-packages/lightgbm/lib/lib_lightgbm.so\n  Reason: tried: '/usr/local/opt/libomp/lib/libomp.dylib' (no such file), '/System/Volumes/Preboot/Cryptexes/OS/usr/local/opt/libomp/lib/libomp.dylib' (no such file), '/usr/local/opt/libomp/lib/libomp.dylib' (no such file), '/usr/local/lib/libomp.dylib' (no such file), '/usr/lib/libomp.dylib' (no such file, not in dyld cache)"
     ]
    }
   ],
   "source": [
    "import pickle\n",
    "from pathlib import Path\n",
    "\n",
    "import pandas as pd\n",
    "from lazypredict.Supervised import LazyClassifier\n",
    "from sklearn.model_selection import train_test_split\n",
    "\n",
    "# Set the project directory path\n",
    "project_dir = Path(__file__).resolve().parents[2]\n",
    "\n",
    "# Load the target variable\n",
    "df_labels = pd.read_csv(project_dir / \"data/processed/final_labels_with_description.csv\")\n",
    "y = df_labels['Label'].values  # Replace 'target' with the actual column name for the target variable\n",
    "\n",
    "# Load embeddings - for example, GloVe embeddings\n",
    "# If embeddings are saved as .pkl:\n",
    "with open(project_dir / \"data/processed/embeddings/glove_train.pkl\", 'rb') as f:\n",
    "    glove_train = pickle.load(f)\n",
    "\n",
    "X = glove_train  # Your embedding matrix\n",
    "\n",
    "# Split the data into training and test sets\n",
    "X_train, X_test, y_train, y_test = train_test_split(X, y, test_size=0.5, random_state=123)\n",
    "\n",
    "# Initialize LazyClassifier and fit\n",
    "clf = LazyClassifier(verbose=0, ignore_warnings=True, custom_metric=None)\n",
    "models, predictions = clf.fit(X_train, X_test, y_train, y_test)\n",
    "\n",
    "# Print the model performance\n",
    "print(models)"
   ]
  },
  {
   "cell_type": "code",
   "execution_count": null,
   "id": "93b4847e2fed404f",
   "metadata": {
    "collapsed": false
   },
   "outputs": [],
   "source": []
  }
 ],
 "metadata": {
  "kernelspec": {
   "display_name": "Python 3 (ipykernel)",
   "language": "python",
   "name": "python3"
  },
  "language_info": {
   "codemirror_mode": {
    "name": "ipython",
    "version": 3
   },
   "file_extension": ".py",
   "mimetype": "text/x-python",
   "name": "python",
   "nbconvert_exporter": "python",
   "pygments_lexer": "ipython3",
   "version": "3.9.15"
  }
 },
 "nbformat": 4,
 "nbformat_minor": 5
}
