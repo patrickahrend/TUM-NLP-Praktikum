{
 "cells": [
  {
   "cell_type": "code",
   "execution_count": 2,
   "id": "initial_id",
   "metadata": {
    "collapsed": true,
    "ExecuteTime": {
     "end_time": "2024-01-04T17:54:18.113133Z",
     "start_time": "2024-01-04T17:54:18.110317Z"
    }
   },
   "outputs": [],
   "source": []
  },
  {
   "cell_type": "markdown",
   "source": [
    "## Comparison of results"
   ],
   "metadata": {
    "collapsed": false
   },
   "id": "688196e988b1f47c"
  },
  {
   "cell_type": "code",
   "outputs": [],
   "source": [
    "from pathlib import Path\n",
    "\n",
    "import pandas as pd\n",
    "\n",
    "project_dir = Path(Path.cwd()).resolve().parents[1]\n",
    "\n",
    "result_combined = pd.read_csv(project_dir / \"references/model_evaluation_results_0102-2015_dt_1.csv\")\n",
    "results_seperate = pd.read_csv(project_dir / \"references/model_evaluation_results_0104-1649_dt_2.csv\")"
   ],
   "metadata": {
    "collapsed": false,
    "ExecuteTime": {
     "end_time": "2024-01-04T18:03:19.842974Z",
     "start_time": "2024-01-04T18:03:19.781270Z"
    }
   },
   "id": "f05c3e45838b4420",
   "execution_count": 10
  },
  {
   "cell_type": "code",
   "outputs": [
    {
     "data": {
      "text/plain": "                         model   data  accuracy_is  accuracy_oos  \\\n0                   GaussianNB  tfidf     0.576393      0.593985   \n1   GradientBoostingClassifier  tfidf     0.973038      0.936090   \n2                SGDClassifier  tfidf     0.932295      0.894737   \n3                MultinomialNB  tfidf     0.873577      0.887218   \n4       RandomForestClassifier  tfidf     0.999401      0.954887   \n5                  BernoulliNB  tfidf     0.379868      0.421053   \n6          Logistic_Regression  tfidf     0.911324      0.887218   \n7                          SVC  tfidf     0.918514      0.894737   \n8                   Perceptron  tfidf     0.939485      0.917293   \n9                   GaussianNB    w2v     0.612942      0.699248   \n10  GradientBoostingClassifier    w2v     0.985021      0.947368   \n11               SGDClassifier    w2v     0.838826      0.838346   \n12      RandomForestClassifier    w2v     1.000000      0.962406   \n13                 BernoulliNB    w2v     0.494907      0.620301   \n14      DecisionTreeClassifier    w2v     1.000000      0.943609   \n15         Logistic_Regression    w2v     0.911923      0.887218   \n16                         SVC    w2v     0.911324      0.887218   \n17                  Perceptron    w2v     0.911324      0.887218   \n18                  GaussianNB   bert     0.634512      0.699248   \n19  GradientBoostingClassifier   bert     0.984422      0.947368   \n20               SGDClassifier   bert     0.940683      0.902256   \n21      RandomForestClassifier   bert     1.000000      0.958647   \n22                 BernoulliNB   bert     0.764530      0.812030   \n23      DecisionTreeClassifier   bert     1.000000      0.958647   \n24         Logistic_Regression   bert     0.934092      0.906015   \n25                         SVC   bert     0.911324      0.887218   \n26                  Perceptron   bert     0.907729      0.872180   \n27                  GaussianNB    gpt     0.365488      0.488722   \n28  GradientBoostingClassifier    gpt     0.986818      0.939850   \n29               SGDClassifier    gpt     0.914919      0.890977   \n30      RandomForestClassifier    gpt     1.000000      0.962406   \n31                 BernoulliNB    gpt     0.458358      0.586466   \n32      DecisionTreeClassifier    gpt     1.000000      0.932331   \n33         Logistic_Regression    gpt     0.911324      0.887218   \n34                         SVC    gpt     0.911324      0.887218   \n35                  Perceptron    gpt     0.919712      0.890977   \n36                  GaussianNB  glove     0.608149      0.687970   \n37  GradientBoostingClassifier  glove     0.984422      0.932331   \n38               SGDClassifier  glove     0.938886      0.902256   \n39      RandomForestClassifier  glove     1.000000      0.958647   \n40                 BernoulliNB  glove     0.770521      0.781955   \n41      DecisionTreeClassifier  glove     1.000000      0.958647   \n42         Logistic_Regression  glove     0.911324      0.887218   \n43                         SVC  glove     0.911324      0.887218   \n44                  Perceptron  glove     0.793889      0.800752   \n45                  GaussianNB     ft     0.648292      0.654135   \n46  GradientBoostingClassifier     ft     0.968844      0.947368   \n47               SGDClassifier     ft     0.911324      0.887218   \n48      RandomForestClassifier     ft     1.000000      0.958647   \n49                 BernoulliNB     ft     0.760935      0.740602   \n50      DecisionTreeClassifier     ft     1.000000      0.947368   \n51         Logistic_Regression     ft     0.911324      0.887218   \n52                         SVC     ft     0.911324      0.887218   \n53                  Perceptron     ft     0.913122      0.890977   \n\n    precision_oos  recall_oos    f1_oos  \n0        0.846386    0.593985  0.668170  \n1        0.940385    0.936090  0.924568  \n2        0.880374    0.894737  0.857237  \n3        0.787156    0.887218  0.834197  \n4        0.953386    0.954887  0.951793  \n5        0.813990    0.421053  0.506237  \n6        0.787156    0.887218  0.834197  \n7        0.905901    0.894737  0.851632  \n8        0.911079    0.917293  0.913217  \n9        0.822330    0.699248  0.747410  \n10       0.945443    0.947368  0.942651  \n11       0.840678    0.838346  0.839499  \n12       0.962148    0.962406  0.959827  \n13       0.833839    0.620301  0.689907  \n14       0.941527    0.943609  0.942303  \n15       0.787156    0.887218  0.834197  \n16       0.787156    0.887218  0.834197  \n17       0.787156    0.887218  0.834197  \n18       0.822330    0.699248  0.747410  \n19       0.950316    0.947368  0.940117  \n20       0.895894    0.902256  0.872039  \n21       0.958416    0.958647  0.955385  \n22       0.836899    0.812030  0.823422  \n23       0.957306    0.958647  0.957689  \n24       0.915017    0.906015  0.874813  \n25       0.787156    0.887218  0.834197  \n26       0.879612    0.872180  0.875629  \n27       0.815655    0.488722  0.575652  \n28       0.936197    0.939850  0.934459  \n29       0.902908    0.890977  0.843138  \n30       0.963934    0.962406  0.959037  \n31       0.833741    0.586466  0.662193  \n32       0.930499    0.932331  0.931307  \n33       0.787156    0.887218  0.834197  \n34       0.787156    0.887218  0.834197  \n35       0.902908    0.890977  0.843138  \n36       0.815502    0.687970  0.738392  \n37       0.932092    0.932331  0.921137  \n38       0.889273    0.902256  0.876138  \n39       0.958416    0.958647  0.955385  \n40       0.819801    0.781955  0.799248  \n41       0.957333    0.958647  0.956218  \n42       0.787156    0.887218  0.834197  \n43       0.787156    0.887218  0.834197  \n44       0.856657    0.800752  0.823255  \n45       0.814233    0.654135  0.714341  \n46       0.950316    0.947368  0.940117  \n47       0.787156    0.887218  0.834197  \n48       0.958416    0.958647  0.955385  \n49       0.825326    0.740602  0.775668  \n50       0.946010    0.947368  0.946572  \n51       0.787156    0.887218  0.834197  \n52       0.787156    0.887218  0.834197  \n53       0.867949    0.890977  0.849327  ",
      "text/html": "<div>\n<style scoped>\n    .dataframe tbody tr th:only-of-type {\n        vertical-align: middle;\n    }\n\n    .dataframe tbody tr th {\n        vertical-align: top;\n    }\n\n    .dataframe thead th {\n        text-align: right;\n    }\n</style>\n<table border=\"1\" class=\"dataframe\">\n  <thead>\n    <tr style=\"text-align: right;\">\n      <th></th>\n      <th>model</th>\n      <th>data</th>\n      <th>accuracy_is</th>\n      <th>accuracy_oos</th>\n      <th>precision_oos</th>\n      <th>recall_oos</th>\n      <th>f1_oos</th>\n    </tr>\n  </thead>\n  <tbody>\n    <tr>\n      <th>0</th>\n      <td>GaussianNB</td>\n      <td>tfidf</td>\n      <td>0.576393</td>\n      <td>0.593985</td>\n      <td>0.846386</td>\n      <td>0.593985</td>\n      <td>0.668170</td>\n    </tr>\n    <tr>\n      <th>1</th>\n      <td>GradientBoostingClassifier</td>\n      <td>tfidf</td>\n      <td>0.973038</td>\n      <td>0.936090</td>\n      <td>0.940385</td>\n      <td>0.936090</td>\n      <td>0.924568</td>\n    </tr>\n    <tr>\n      <th>2</th>\n      <td>SGDClassifier</td>\n      <td>tfidf</td>\n      <td>0.932295</td>\n      <td>0.894737</td>\n      <td>0.880374</td>\n      <td>0.894737</td>\n      <td>0.857237</td>\n    </tr>\n    <tr>\n      <th>3</th>\n      <td>MultinomialNB</td>\n      <td>tfidf</td>\n      <td>0.873577</td>\n      <td>0.887218</td>\n      <td>0.787156</td>\n      <td>0.887218</td>\n      <td>0.834197</td>\n    </tr>\n    <tr>\n      <th>4</th>\n      <td>RandomForestClassifier</td>\n      <td>tfidf</td>\n      <td>0.999401</td>\n      <td>0.954887</td>\n      <td>0.953386</td>\n      <td>0.954887</td>\n      <td>0.951793</td>\n    </tr>\n    <tr>\n      <th>5</th>\n      <td>BernoulliNB</td>\n      <td>tfidf</td>\n      <td>0.379868</td>\n      <td>0.421053</td>\n      <td>0.813990</td>\n      <td>0.421053</td>\n      <td>0.506237</td>\n    </tr>\n    <tr>\n      <th>6</th>\n      <td>Logistic_Regression</td>\n      <td>tfidf</td>\n      <td>0.911324</td>\n      <td>0.887218</td>\n      <td>0.787156</td>\n      <td>0.887218</td>\n      <td>0.834197</td>\n    </tr>\n    <tr>\n      <th>7</th>\n      <td>SVC</td>\n      <td>tfidf</td>\n      <td>0.918514</td>\n      <td>0.894737</td>\n      <td>0.905901</td>\n      <td>0.894737</td>\n      <td>0.851632</td>\n    </tr>\n    <tr>\n      <th>8</th>\n      <td>Perceptron</td>\n      <td>tfidf</td>\n      <td>0.939485</td>\n      <td>0.917293</td>\n      <td>0.911079</td>\n      <td>0.917293</td>\n      <td>0.913217</td>\n    </tr>\n    <tr>\n      <th>9</th>\n      <td>GaussianNB</td>\n      <td>w2v</td>\n      <td>0.612942</td>\n      <td>0.699248</td>\n      <td>0.822330</td>\n      <td>0.699248</td>\n      <td>0.747410</td>\n    </tr>\n    <tr>\n      <th>10</th>\n      <td>GradientBoostingClassifier</td>\n      <td>w2v</td>\n      <td>0.985021</td>\n      <td>0.947368</td>\n      <td>0.945443</td>\n      <td>0.947368</td>\n      <td>0.942651</td>\n    </tr>\n    <tr>\n      <th>11</th>\n      <td>SGDClassifier</td>\n      <td>w2v</td>\n      <td>0.838826</td>\n      <td>0.838346</td>\n      <td>0.840678</td>\n      <td>0.838346</td>\n      <td>0.839499</td>\n    </tr>\n    <tr>\n      <th>12</th>\n      <td>RandomForestClassifier</td>\n      <td>w2v</td>\n      <td>1.000000</td>\n      <td>0.962406</td>\n      <td>0.962148</td>\n      <td>0.962406</td>\n      <td>0.959827</td>\n    </tr>\n    <tr>\n      <th>13</th>\n      <td>BernoulliNB</td>\n      <td>w2v</td>\n      <td>0.494907</td>\n      <td>0.620301</td>\n      <td>0.833839</td>\n      <td>0.620301</td>\n      <td>0.689907</td>\n    </tr>\n    <tr>\n      <th>14</th>\n      <td>DecisionTreeClassifier</td>\n      <td>w2v</td>\n      <td>1.000000</td>\n      <td>0.943609</td>\n      <td>0.941527</td>\n      <td>0.943609</td>\n      <td>0.942303</td>\n    </tr>\n    <tr>\n      <th>15</th>\n      <td>Logistic_Regression</td>\n      <td>w2v</td>\n      <td>0.911923</td>\n      <td>0.887218</td>\n      <td>0.787156</td>\n      <td>0.887218</td>\n      <td>0.834197</td>\n    </tr>\n    <tr>\n      <th>16</th>\n      <td>SVC</td>\n      <td>w2v</td>\n      <td>0.911324</td>\n      <td>0.887218</td>\n      <td>0.787156</td>\n      <td>0.887218</td>\n      <td>0.834197</td>\n    </tr>\n    <tr>\n      <th>17</th>\n      <td>Perceptron</td>\n      <td>w2v</td>\n      <td>0.911324</td>\n      <td>0.887218</td>\n      <td>0.787156</td>\n      <td>0.887218</td>\n      <td>0.834197</td>\n    </tr>\n    <tr>\n      <th>18</th>\n      <td>GaussianNB</td>\n      <td>bert</td>\n      <td>0.634512</td>\n      <td>0.699248</td>\n      <td>0.822330</td>\n      <td>0.699248</td>\n      <td>0.747410</td>\n    </tr>\n    <tr>\n      <th>19</th>\n      <td>GradientBoostingClassifier</td>\n      <td>bert</td>\n      <td>0.984422</td>\n      <td>0.947368</td>\n      <td>0.950316</td>\n      <td>0.947368</td>\n      <td>0.940117</td>\n    </tr>\n    <tr>\n      <th>20</th>\n      <td>SGDClassifier</td>\n      <td>bert</td>\n      <td>0.940683</td>\n      <td>0.902256</td>\n      <td>0.895894</td>\n      <td>0.902256</td>\n      <td>0.872039</td>\n    </tr>\n    <tr>\n      <th>21</th>\n      <td>RandomForestClassifier</td>\n      <td>bert</td>\n      <td>1.000000</td>\n      <td>0.958647</td>\n      <td>0.958416</td>\n      <td>0.958647</td>\n      <td>0.955385</td>\n    </tr>\n    <tr>\n      <th>22</th>\n      <td>BernoulliNB</td>\n      <td>bert</td>\n      <td>0.764530</td>\n      <td>0.812030</td>\n      <td>0.836899</td>\n      <td>0.812030</td>\n      <td>0.823422</td>\n    </tr>\n    <tr>\n      <th>23</th>\n      <td>DecisionTreeClassifier</td>\n      <td>bert</td>\n      <td>1.000000</td>\n      <td>0.958647</td>\n      <td>0.957306</td>\n      <td>0.958647</td>\n      <td>0.957689</td>\n    </tr>\n    <tr>\n      <th>24</th>\n      <td>Logistic_Regression</td>\n      <td>bert</td>\n      <td>0.934092</td>\n      <td>0.906015</td>\n      <td>0.915017</td>\n      <td>0.906015</td>\n      <td>0.874813</td>\n    </tr>\n    <tr>\n      <th>25</th>\n      <td>SVC</td>\n      <td>bert</td>\n      <td>0.911324</td>\n      <td>0.887218</td>\n      <td>0.787156</td>\n      <td>0.887218</td>\n      <td>0.834197</td>\n    </tr>\n    <tr>\n      <th>26</th>\n      <td>Perceptron</td>\n      <td>bert</td>\n      <td>0.907729</td>\n      <td>0.872180</td>\n      <td>0.879612</td>\n      <td>0.872180</td>\n      <td>0.875629</td>\n    </tr>\n    <tr>\n      <th>27</th>\n      <td>GaussianNB</td>\n      <td>gpt</td>\n      <td>0.365488</td>\n      <td>0.488722</td>\n      <td>0.815655</td>\n      <td>0.488722</td>\n      <td>0.575652</td>\n    </tr>\n    <tr>\n      <th>28</th>\n      <td>GradientBoostingClassifier</td>\n      <td>gpt</td>\n      <td>0.986818</td>\n      <td>0.939850</td>\n      <td>0.936197</td>\n      <td>0.939850</td>\n      <td>0.934459</td>\n    </tr>\n    <tr>\n      <th>29</th>\n      <td>SGDClassifier</td>\n      <td>gpt</td>\n      <td>0.914919</td>\n      <td>0.890977</td>\n      <td>0.902908</td>\n      <td>0.890977</td>\n      <td>0.843138</td>\n    </tr>\n    <tr>\n      <th>30</th>\n      <td>RandomForestClassifier</td>\n      <td>gpt</td>\n      <td>1.000000</td>\n      <td>0.962406</td>\n      <td>0.963934</td>\n      <td>0.962406</td>\n      <td>0.959037</td>\n    </tr>\n    <tr>\n      <th>31</th>\n      <td>BernoulliNB</td>\n      <td>gpt</td>\n      <td>0.458358</td>\n      <td>0.586466</td>\n      <td>0.833741</td>\n      <td>0.586466</td>\n      <td>0.662193</td>\n    </tr>\n    <tr>\n      <th>32</th>\n      <td>DecisionTreeClassifier</td>\n      <td>gpt</td>\n      <td>1.000000</td>\n      <td>0.932331</td>\n      <td>0.930499</td>\n      <td>0.932331</td>\n      <td>0.931307</td>\n    </tr>\n    <tr>\n      <th>33</th>\n      <td>Logistic_Regression</td>\n      <td>gpt</td>\n      <td>0.911324</td>\n      <td>0.887218</td>\n      <td>0.787156</td>\n      <td>0.887218</td>\n      <td>0.834197</td>\n    </tr>\n    <tr>\n      <th>34</th>\n      <td>SVC</td>\n      <td>gpt</td>\n      <td>0.911324</td>\n      <td>0.887218</td>\n      <td>0.787156</td>\n      <td>0.887218</td>\n      <td>0.834197</td>\n    </tr>\n    <tr>\n      <th>35</th>\n      <td>Perceptron</td>\n      <td>gpt</td>\n      <td>0.919712</td>\n      <td>0.890977</td>\n      <td>0.902908</td>\n      <td>0.890977</td>\n      <td>0.843138</td>\n    </tr>\n    <tr>\n      <th>36</th>\n      <td>GaussianNB</td>\n      <td>glove</td>\n      <td>0.608149</td>\n      <td>0.687970</td>\n      <td>0.815502</td>\n      <td>0.687970</td>\n      <td>0.738392</td>\n    </tr>\n    <tr>\n      <th>37</th>\n      <td>GradientBoostingClassifier</td>\n      <td>glove</td>\n      <td>0.984422</td>\n      <td>0.932331</td>\n      <td>0.932092</td>\n      <td>0.932331</td>\n      <td>0.921137</td>\n    </tr>\n    <tr>\n      <th>38</th>\n      <td>SGDClassifier</td>\n      <td>glove</td>\n      <td>0.938886</td>\n      <td>0.902256</td>\n      <td>0.889273</td>\n      <td>0.902256</td>\n      <td>0.876138</td>\n    </tr>\n    <tr>\n      <th>39</th>\n      <td>RandomForestClassifier</td>\n      <td>glove</td>\n      <td>1.000000</td>\n      <td>0.958647</td>\n      <td>0.958416</td>\n      <td>0.958647</td>\n      <td>0.955385</td>\n    </tr>\n    <tr>\n      <th>40</th>\n      <td>BernoulliNB</td>\n      <td>glove</td>\n      <td>0.770521</td>\n      <td>0.781955</td>\n      <td>0.819801</td>\n      <td>0.781955</td>\n      <td>0.799248</td>\n    </tr>\n    <tr>\n      <th>41</th>\n      <td>DecisionTreeClassifier</td>\n      <td>glove</td>\n      <td>1.000000</td>\n      <td>0.958647</td>\n      <td>0.957333</td>\n      <td>0.958647</td>\n      <td>0.956218</td>\n    </tr>\n    <tr>\n      <th>42</th>\n      <td>Logistic_Regression</td>\n      <td>glove</td>\n      <td>0.911324</td>\n      <td>0.887218</td>\n      <td>0.787156</td>\n      <td>0.887218</td>\n      <td>0.834197</td>\n    </tr>\n    <tr>\n      <th>43</th>\n      <td>SVC</td>\n      <td>glove</td>\n      <td>0.911324</td>\n      <td>0.887218</td>\n      <td>0.787156</td>\n      <td>0.887218</td>\n      <td>0.834197</td>\n    </tr>\n    <tr>\n      <th>44</th>\n      <td>Perceptron</td>\n      <td>glove</td>\n      <td>0.793889</td>\n      <td>0.800752</td>\n      <td>0.856657</td>\n      <td>0.800752</td>\n      <td>0.823255</td>\n    </tr>\n    <tr>\n      <th>45</th>\n      <td>GaussianNB</td>\n      <td>ft</td>\n      <td>0.648292</td>\n      <td>0.654135</td>\n      <td>0.814233</td>\n      <td>0.654135</td>\n      <td>0.714341</td>\n    </tr>\n    <tr>\n      <th>46</th>\n      <td>GradientBoostingClassifier</td>\n      <td>ft</td>\n      <td>0.968844</td>\n      <td>0.947368</td>\n      <td>0.950316</td>\n      <td>0.947368</td>\n      <td>0.940117</td>\n    </tr>\n    <tr>\n      <th>47</th>\n      <td>SGDClassifier</td>\n      <td>ft</td>\n      <td>0.911324</td>\n      <td>0.887218</td>\n      <td>0.787156</td>\n      <td>0.887218</td>\n      <td>0.834197</td>\n    </tr>\n    <tr>\n      <th>48</th>\n      <td>RandomForestClassifier</td>\n      <td>ft</td>\n      <td>1.000000</td>\n      <td>0.958647</td>\n      <td>0.958416</td>\n      <td>0.958647</td>\n      <td>0.955385</td>\n    </tr>\n    <tr>\n      <th>49</th>\n      <td>BernoulliNB</td>\n      <td>ft</td>\n      <td>0.760935</td>\n      <td>0.740602</td>\n      <td>0.825326</td>\n      <td>0.740602</td>\n      <td>0.775668</td>\n    </tr>\n    <tr>\n      <th>50</th>\n      <td>DecisionTreeClassifier</td>\n      <td>ft</td>\n      <td>1.000000</td>\n      <td>0.947368</td>\n      <td>0.946010</td>\n      <td>0.947368</td>\n      <td>0.946572</td>\n    </tr>\n    <tr>\n      <th>51</th>\n      <td>Logistic_Regression</td>\n      <td>ft</td>\n      <td>0.911324</td>\n      <td>0.887218</td>\n      <td>0.787156</td>\n      <td>0.887218</td>\n      <td>0.834197</td>\n    </tr>\n    <tr>\n      <th>52</th>\n      <td>SVC</td>\n      <td>ft</td>\n      <td>0.911324</td>\n      <td>0.887218</td>\n      <td>0.787156</td>\n      <td>0.887218</td>\n      <td>0.834197</td>\n    </tr>\n    <tr>\n      <th>53</th>\n      <td>Perceptron</td>\n      <td>ft</td>\n      <td>0.913122</td>\n      <td>0.890977</td>\n      <td>0.867949</td>\n      <td>0.890977</td>\n      <td>0.849327</td>\n    </tr>\n  </tbody>\n</table>\n</div>"
     },
     "execution_count": 11,
     "metadata": {},
     "output_type": "execute_result"
    }
   ],
   "source": [
    "result_combined"
   ],
   "metadata": {
    "collapsed": false,
    "ExecuteTime": {
     "end_time": "2024-01-04T18:03:23.047367Z",
     "start_time": "2024-01-04T18:03:22.996659Z"
    }
   },
   "id": "e3b91a772d0ac62d",
   "execution_count": 11
  },
  {
   "cell_type": "code",
   "outputs": [
    {
     "data": {
      "text/plain": "                         model   data  accuracy_is  accuracy_oos  \\\n0                   GaussianNB    gpt     0.687238      0.703008   \n1   GradientBoostingClassifier    gpt     0.991612      0.939850   \n2                SGDClassifier    gpt     0.936489      0.913534   \n3       RandomForestClassifier    gpt     0.999401      0.954887   \n4                  BernoulliNB    gpt     0.693829      0.695489   \n5       DecisionTreeClassifier    gpt     1.000000      0.936090   \n6          Logistic_Regression    gpt     0.911324      0.887218   \n7                          SVC    gpt     0.911324      0.887218   \n8                   Perceptron    gpt     0.991612      0.951128   \n9                   GaussianNB     ft     0.693829      0.706767   \n10  GradientBoostingClassifier     ft     0.972439      0.939850   \n11               SGDClassifier     ft     0.911324      0.887218   \n12      RandomForestClassifier     ft     1.000000      0.958647   \n13                 BernoulliNB     ft     0.752546      0.751880   \n14      DecisionTreeClassifier     ft     1.000000      0.939850   \n15         Logistic_Regression     ft     0.911324      0.887218   \n16                         SVC     ft     0.911324      0.887218   \n17                  Perceptron     ft     0.914919      0.890977   \n18                  GaussianNB    w2v     0.735770      0.736842   \n19  GradientBoostingClassifier    w2v     0.986219      0.928571   \n20               SGDClassifier    w2v     0.919712      0.879699   \n21      RandomForestClassifier    w2v     1.000000      0.954887   \n22                 BernoulliNB    w2v     0.644098      0.710526   \n23      DecisionTreeClassifier    w2v     1.000000      0.947368   \n24         Logistic_Regression    w2v     0.916117      0.883459   \n25                         SVC    w2v     0.912522      0.890977   \n26                  Perceptron    w2v     0.905932      0.872180   \n27                  GaussianNB  glove     0.639305      0.669173   \n28  GradientBoostingClassifier  glove     0.993409      0.943609   \n29               SGDClassifier  glove     0.943080      0.921053   \n30      RandomForestClassifier  glove     1.000000      0.958647   \n31                 BernoulliNB  glove     0.755542      0.763158   \n32      DecisionTreeClassifier  glove     1.000000      0.943609   \n33         Logistic_Regression  glove     0.920312      0.902256   \n34                         SVC  glove     0.911324      0.887218   \n35                  Perceptron  glove     0.947274      0.928571   \n36                  GaussianNB   bert     0.612343      0.639098   \n37  GradientBoostingClassifier   bert     0.986219      0.939850   \n38               SGDClassifier   bert     0.962253      0.917293   \n39      RandomForestClassifier   bert     1.000000      0.958647   \n40                 BernoulliNB   bert     0.742960      0.736842   \n41      DecisionTreeClassifier   bert     1.000000      0.932331   \n42         Logistic_Regression   bert     0.973038      0.936090   \n43                         SVC   bert     0.911324      0.887218   \n44                  Perceptron   bert     0.925704      0.902256   \n\n    precision_oos  recall_oos    f1_oos  \n0        0.852280    0.703008  0.754442  \n1        0.939718    0.939850  0.931563  \n2        0.921212    0.913534  0.888668  \n3        0.954689    0.954887  0.950844  \n4        0.851074    0.695489  0.748752  \n5        0.935196    0.936090  0.935616  \n6        0.787156    0.887218  0.834197  \n7        0.787156    0.887218  0.834197  \n8        0.950461    0.951128  0.950765  \n9        0.828475    0.706767  0.753724  \n10       0.939718    0.939850  0.931563  \n11       0.787156    0.887218  0.834197  \n12       0.958416    0.958647  0.955385  \n13       0.832251    0.751880  0.784813  \n14       0.939850    0.939850  0.939850  \n15       0.787156    0.887218  0.834197  \n16       0.787156    0.887218  0.834197  \n17       0.863106    0.890977  0.854783  \n18       0.824595    0.736842  0.773039  \n19       0.922377    0.928571  0.921367  \n20       0.846886    0.879699  0.856130  \n21       0.953386    0.954887  0.951793  \n22       0.838774    0.710526  0.758096  \n23       0.949055    0.947368  0.948105  \n24       0.843063    0.883459  0.849944  \n25       0.902908    0.890977  0.843138  \n26       0.844338    0.872180  0.854571  \n27       0.846916    0.669173  0.728600  \n28       0.943482    0.943609  0.936566  \n29       0.927504    0.921053  0.901479  \n30       0.958416    0.958647  0.955385  \n31       0.843856    0.763158  0.795175  \n32       0.940630    0.943609  0.941341  \n33       0.911955    0.902256  0.867434  \n34       0.787156    0.887218  0.834197  \n35       0.928202    0.928571  0.915693  \n36       0.842202    0.639098  0.705044  \n37       0.939718    0.939850  0.931563  \n38       0.924346    0.917293  0.895193  \n39       0.958416    0.958647  0.955385  \n40       0.843486    0.736842  0.777290  \n41       0.932331    0.932331  0.932331  \n42       0.935925    0.936090  0.926423  \n43       0.787156    0.887218  0.834197  \n44       0.911955    0.902256  0.867434  ",
      "text/html": "<div>\n<style scoped>\n    .dataframe tbody tr th:only-of-type {\n        vertical-align: middle;\n    }\n\n    .dataframe tbody tr th {\n        vertical-align: top;\n    }\n\n    .dataframe thead th {\n        text-align: right;\n    }\n</style>\n<table border=\"1\" class=\"dataframe\">\n  <thead>\n    <tr style=\"text-align: right;\">\n      <th></th>\n      <th>model</th>\n      <th>data</th>\n      <th>accuracy_is</th>\n      <th>accuracy_oos</th>\n      <th>precision_oos</th>\n      <th>recall_oos</th>\n      <th>f1_oos</th>\n    </tr>\n  </thead>\n  <tbody>\n    <tr>\n      <th>0</th>\n      <td>GaussianNB</td>\n      <td>gpt</td>\n      <td>0.687238</td>\n      <td>0.703008</td>\n      <td>0.852280</td>\n      <td>0.703008</td>\n      <td>0.754442</td>\n    </tr>\n    <tr>\n      <th>1</th>\n      <td>GradientBoostingClassifier</td>\n      <td>gpt</td>\n      <td>0.991612</td>\n      <td>0.939850</td>\n      <td>0.939718</td>\n      <td>0.939850</td>\n      <td>0.931563</td>\n    </tr>\n    <tr>\n      <th>2</th>\n      <td>SGDClassifier</td>\n      <td>gpt</td>\n      <td>0.936489</td>\n      <td>0.913534</td>\n      <td>0.921212</td>\n      <td>0.913534</td>\n      <td>0.888668</td>\n    </tr>\n    <tr>\n      <th>3</th>\n      <td>RandomForestClassifier</td>\n      <td>gpt</td>\n      <td>0.999401</td>\n      <td>0.954887</td>\n      <td>0.954689</td>\n      <td>0.954887</td>\n      <td>0.950844</td>\n    </tr>\n    <tr>\n      <th>4</th>\n      <td>BernoulliNB</td>\n      <td>gpt</td>\n      <td>0.693829</td>\n      <td>0.695489</td>\n      <td>0.851074</td>\n      <td>0.695489</td>\n      <td>0.748752</td>\n    </tr>\n    <tr>\n      <th>5</th>\n      <td>DecisionTreeClassifier</td>\n      <td>gpt</td>\n      <td>1.000000</td>\n      <td>0.936090</td>\n      <td>0.935196</td>\n      <td>0.936090</td>\n      <td>0.935616</td>\n    </tr>\n    <tr>\n      <th>6</th>\n      <td>Logistic_Regression</td>\n      <td>gpt</td>\n      <td>0.911324</td>\n      <td>0.887218</td>\n      <td>0.787156</td>\n      <td>0.887218</td>\n      <td>0.834197</td>\n    </tr>\n    <tr>\n      <th>7</th>\n      <td>SVC</td>\n      <td>gpt</td>\n      <td>0.911324</td>\n      <td>0.887218</td>\n      <td>0.787156</td>\n      <td>0.887218</td>\n      <td>0.834197</td>\n    </tr>\n    <tr>\n      <th>8</th>\n      <td>Perceptron</td>\n      <td>gpt</td>\n      <td>0.991612</td>\n      <td>0.951128</td>\n      <td>0.950461</td>\n      <td>0.951128</td>\n      <td>0.950765</td>\n    </tr>\n    <tr>\n      <th>9</th>\n      <td>GaussianNB</td>\n      <td>ft</td>\n      <td>0.693829</td>\n      <td>0.706767</td>\n      <td>0.828475</td>\n      <td>0.706767</td>\n      <td>0.753724</td>\n    </tr>\n    <tr>\n      <th>10</th>\n      <td>GradientBoostingClassifier</td>\n      <td>ft</td>\n      <td>0.972439</td>\n      <td>0.939850</td>\n      <td>0.939718</td>\n      <td>0.939850</td>\n      <td>0.931563</td>\n    </tr>\n    <tr>\n      <th>11</th>\n      <td>SGDClassifier</td>\n      <td>ft</td>\n      <td>0.911324</td>\n      <td>0.887218</td>\n      <td>0.787156</td>\n      <td>0.887218</td>\n      <td>0.834197</td>\n    </tr>\n    <tr>\n      <th>12</th>\n      <td>RandomForestClassifier</td>\n      <td>ft</td>\n      <td>1.000000</td>\n      <td>0.958647</td>\n      <td>0.958416</td>\n      <td>0.958647</td>\n      <td>0.955385</td>\n    </tr>\n    <tr>\n      <th>13</th>\n      <td>BernoulliNB</td>\n      <td>ft</td>\n      <td>0.752546</td>\n      <td>0.751880</td>\n      <td>0.832251</td>\n      <td>0.751880</td>\n      <td>0.784813</td>\n    </tr>\n    <tr>\n      <th>14</th>\n      <td>DecisionTreeClassifier</td>\n      <td>ft</td>\n      <td>1.000000</td>\n      <td>0.939850</td>\n      <td>0.939850</td>\n      <td>0.939850</td>\n      <td>0.939850</td>\n    </tr>\n    <tr>\n      <th>15</th>\n      <td>Logistic_Regression</td>\n      <td>ft</td>\n      <td>0.911324</td>\n      <td>0.887218</td>\n      <td>0.787156</td>\n      <td>0.887218</td>\n      <td>0.834197</td>\n    </tr>\n    <tr>\n      <th>16</th>\n      <td>SVC</td>\n      <td>ft</td>\n      <td>0.911324</td>\n      <td>0.887218</td>\n      <td>0.787156</td>\n      <td>0.887218</td>\n      <td>0.834197</td>\n    </tr>\n    <tr>\n      <th>17</th>\n      <td>Perceptron</td>\n      <td>ft</td>\n      <td>0.914919</td>\n      <td>0.890977</td>\n      <td>0.863106</td>\n      <td>0.890977</td>\n      <td>0.854783</td>\n    </tr>\n    <tr>\n      <th>18</th>\n      <td>GaussianNB</td>\n      <td>w2v</td>\n      <td>0.735770</td>\n      <td>0.736842</td>\n      <td>0.824595</td>\n      <td>0.736842</td>\n      <td>0.773039</td>\n    </tr>\n    <tr>\n      <th>19</th>\n      <td>GradientBoostingClassifier</td>\n      <td>w2v</td>\n      <td>0.986219</td>\n      <td>0.928571</td>\n      <td>0.922377</td>\n      <td>0.928571</td>\n      <td>0.921367</td>\n    </tr>\n    <tr>\n      <th>20</th>\n      <td>SGDClassifier</td>\n      <td>w2v</td>\n      <td>0.919712</td>\n      <td>0.879699</td>\n      <td>0.846886</td>\n      <td>0.879699</td>\n      <td>0.856130</td>\n    </tr>\n    <tr>\n      <th>21</th>\n      <td>RandomForestClassifier</td>\n      <td>w2v</td>\n      <td>1.000000</td>\n      <td>0.954887</td>\n      <td>0.953386</td>\n      <td>0.954887</td>\n      <td>0.951793</td>\n    </tr>\n    <tr>\n      <th>22</th>\n      <td>BernoulliNB</td>\n      <td>w2v</td>\n      <td>0.644098</td>\n      <td>0.710526</td>\n      <td>0.838774</td>\n      <td>0.710526</td>\n      <td>0.758096</td>\n    </tr>\n    <tr>\n      <th>23</th>\n      <td>DecisionTreeClassifier</td>\n      <td>w2v</td>\n      <td>1.000000</td>\n      <td>0.947368</td>\n      <td>0.949055</td>\n      <td>0.947368</td>\n      <td>0.948105</td>\n    </tr>\n    <tr>\n      <th>24</th>\n      <td>Logistic_Regression</td>\n      <td>w2v</td>\n      <td>0.916117</td>\n      <td>0.883459</td>\n      <td>0.843063</td>\n      <td>0.883459</td>\n      <td>0.849944</td>\n    </tr>\n    <tr>\n      <th>25</th>\n      <td>SVC</td>\n      <td>w2v</td>\n      <td>0.912522</td>\n      <td>0.890977</td>\n      <td>0.902908</td>\n      <td>0.890977</td>\n      <td>0.843138</td>\n    </tr>\n    <tr>\n      <th>26</th>\n      <td>Perceptron</td>\n      <td>w2v</td>\n      <td>0.905932</td>\n      <td>0.872180</td>\n      <td>0.844338</td>\n      <td>0.872180</td>\n      <td>0.854571</td>\n    </tr>\n    <tr>\n      <th>27</th>\n      <td>GaussianNB</td>\n      <td>glove</td>\n      <td>0.639305</td>\n      <td>0.669173</td>\n      <td>0.846916</td>\n      <td>0.669173</td>\n      <td>0.728600</td>\n    </tr>\n    <tr>\n      <th>28</th>\n      <td>GradientBoostingClassifier</td>\n      <td>glove</td>\n      <td>0.993409</td>\n      <td>0.943609</td>\n      <td>0.943482</td>\n      <td>0.943609</td>\n      <td>0.936566</td>\n    </tr>\n    <tr>\n      <th>29</th>\n      <td>SGDClassifier</td>\n      <td>glove</td>\n      <td>0.943080</td>\n      <td>0.921053</td>\n      <td>0.927504</td>\n      <td>0.921053</td>\n      <td>0.901479</td>\n    </tr>\n    <tr>\n      <th>30</th>\n      <td>RandomForestClassifier</td>\n      <td>glove</td>\n      <td>1.000000</td>\n      <td>0.958647</td>\n      <td>0.958416</td>\n      <td>0.958647</td>\n      <td>0.955385</td>\n    </tr>\n    <tr>\n      <th>31</th>\n      <td>BernoulliNB</td>\n      <td>glove</td>\n      <td>0.755542</td>\n      <td>0.763158</td>\n      <td>0.843856</td>\n      <td>0.763158</td>\n      <td>0.795175</td>\n    </tr>\n    <tr>\n      <th>32</th>\n      <td>DecisionTreeClassifier</td>\n      <td>glove</td>\n      <td>1.000000</td>\n      <td>0.943609</td>\n      <td>0.940630</td>\n      <td>0.943609</td>\n      <td>0.941341</td>\n    </tr>\n    <tr>\n      <th>33</th>\n      <td>Logistic_Regression</td>\n      <td>glove</td>\n      <td>0.920312</td>\n      <td>0.902256</td>\n      <td>0.911955</td>\n      <td>0.902256</td>\n      <td>0.867434</td>\n    </tr>\n    <tr>\n      <th>34</th>\n      <td>SVC</td>\n      <td>glove</td>\n      <td>0.911324</td>\n      <td>0.887218</td>\n      <td>0.787156</td>\n      <td>0.887218</td>\n      <td>0.834197</td>\n    </tr>\n    <tr>\n      <th>35</th>\n      <td>Perceptron</td>\n      <td>glove</td>\n      <td>0.947274</td>\n      <td>0.928571</td>\n      <td>0.928202</td>\n      <td>0.928571</td>\n      <td>0.915693</td>\n    </tr>\n    <tr>\n      <th>36</th>\n      <td>GaussianNB</td>\n      <td>bert</td>\n      <td>0.612343</td>\n      <td>0.639098</td>\n      <td>0.842202</td>\n      <td>0.639098</td>\n      <td>0.705044</td>\n    </tr>\n    <tr>\n      <th>37</th>\n      <td>GradientBoostingClassifier</td>\n      <td>bert</td>\n      <td>0.986219</td>\n      <td>0.939850</td>\n      <td>0.939718</td>\n      <td>0.939850</td>\n      <td>0.931563</td>\n    </tr>\n    <tr>\n      <th>38</th>\n      <td>SGDClassifier</td>\n      <td>bert</td>\n      <td>0.962253</td>\n      <td>0.917293</td>\n      <td>0.924346</td>\n      <td>0.917293</td>\n      <td>0.895193</td>\n    </tr>\n    <tr>\n      <th>39</th>\n      <td>RandomForestClassifier</td>\n      <td>bert</td>\n      <td>1.000000</td>\n      <td>0.958647</td>\n      <td>0.958416</td>\n      <td>0.958647</td>\n      <td>0.955385</td>\n    </tr>\n    <tr>\n      <th>40</th>\n      <td>BernoulliNB</td>\n      <td>bert</td>\n      <td>0.742960</td>\n      <td>0.736842</td>\n      <td>0.843486</td>\n      <td>0.736842</td>\n      <td>0.777290</td>\n    </tr>\n    <tr>\n      <th>41</th>\n      <td>DecisionTreeClassifier</td>\n      <td>bert</td>\n      <td>1.000000</td>\n      <td>0.932331</td>\n      <td>0.932331</td>\n      <td>0.932331</td>\n      <td>0.932331</td>\n    </tr>\n    <tr>\n      <th>42</th>\n      <td>Logistic_Regression</td>\n      <td>bert</td>\n      <td>0.973038</td>\n      <td>0.936090</td>\n      <td>0.935925</td>\n      <td>0.936090</td>\n      <td>0.926423</td>\n    </tr>\n    <tr>\n      <th>43</th>\n      <td>SVC</td>\n      <td>bert</td>\n      <td>0.911324</td>\n      <td>0.887218</td>\n      <td>0.787156</td>\n      <td>0.887218</td>\n      <td>0.834197</td>\n    </tr>\n    <tr>\n      <th>44</th>\n      <td>Perceptron</td>\n      <td>bert</td>\n      <td>0.925704</td>\n      <td>0.902256</td>\n      <td>0.911955</td>\n      <td>0.902256</td>\n      <td>0.867434</td>\n    </tr>\n  </tbody>\n</table>\n</div>"
     },
     "execution_count": 12,
     "metadata": {},
     "output_type": "execute_result"
    }
   ],
   "source": [
    "results_seperate"
   ],
   "metadata": {
    "collapsed": false,
    "ExecuteTime": {
     "end_time": "2024-01-04T18:03:34.406602Z",
     "start_time": "2024-01-04T18:03:34.326048Z"
    }
   },
   "id": "1ad5a8268ab0ea1",
   "execution_count": 12
  },
  {
   "cell_type": "markdown",
   "source": [
    "### Find out which best performing model for each type of embeddings"
   ],
   "metadata": {
    "collapsed": false
   },
   "id": "1e10ba8029753e04"
  },
  {
   "cell_type": "code",
   "outputs": [
    {
     "data": {
      "text/plain": "                     model   data  recall_oos\n39  RandomForestClassifier   bert    0.958647\n12  RandomForestClassifier     ft    0.958647\n30  RandomForestClassifier  glove    0.958647\n3   RandomForestClassifier    gpt    0.954887\n21  RandomForestClassifier    w2v    0.954887",
      "text/html": "<div>\n<style scoped>\n    .dataframe tbody tr th:only-of-type {\n        vertical-align: middle;\n    }\n\n    .dataframe tbody tr th {\n        vertical-align: top;\n    }\n\n    .dataframe thead th {\n        text-align: right;\n    }\n</style>\n<table border=\"1\" class=\"dataframe\">\n  <thead>\n    <tr style=\"text-align: right;\">\n      <th></th>\n      <th>model</th>\n      <th>data</th>\n      <th>recall_oos</th>\n    </tr>\n  </thead>\n  <tbody>\n    <tr>\n      <th>39</th>\n      <td>RandomForestClassifier</td>\n      <td>bert</td>\n      <td>0.958647</td>\n    </tr>\n    <tr>\n      <th>12</th>\n      <td>RandomForestClassifier</td>\n      <td>ft</td>\n      <td>0.958647</td>\n    </tr>\n    <tr>\n      <th>30</th>\n      <td>RandomForestClassifier</td>\n      <td>glove</td>\n      <td>0.958647</td>\n    </tr>\n    <tr>\n      <th>3</th>\n      <td>RandomForestClassifier</td>\n      <td>gpt</td>\n      <td>0.954887</td>\n    </tr>\n    <tr>\n      <th>21</th>\n      <td>RandomForestClassifier</td>\n      <td>w2v</td>\n      <td>0.954887</td>\n    </tr>\n  </tbody>\n</table>\n</div>"
     },
     "execution_count": 35,
     "metadata": {},
     "output_type": "execute_result"
    }
   ],
   "source": [
    "best_models_sep = results_seperate.loc[results_seperate.groupby('data')['recall_oos'].idxmax()]\n",
    "best_models_sep[['model', 'data', 'recall_oos']]"
   ],
   "metadata": {
    "collapsed": false,
    "ExecuteTime": {
     "end_time": "2024-01-05T09:57:51.764178Z",
     "start_time": "2024-01-05T09:57:51.665008Z"
    }
   },
   "id": "e8172995293efe00",
   "execution_count": 35
  },
  {
   "cell_type": "code",
   "outputs": [
    {
     "data": {
      "text/plain": "                     model   data  recall_oos\n21  RandomForestClassifier   bert    0.958647\n48  RandomForestClassifier     ft    0.958647\n39  RandomForestClassifier  glove    0.958647\n30  RandomForestClassifier    gpt    0.962406\n4   RandomForestClassifier  tfidf    0.954887\n12  RandomForestClassifier    w2v    0.962406",
      "text/html": "<div>\n<style scoped>\n    .dataframe tbody tr th:only-of-type {\n        vertical-align: middle;\n    }\n\n    .dataframe tbody tr th {\n        vertical-align: top;\n    }\n\n    .dataframe thead th {\n        text-align: right;\n    }\n</style>\n<table border=\"1\" class=\"dataframe\">\n  <thead>\n    <tr style=\"text-align: right;\">\n      <th></th>\n      <th>model</th>\n      <th>data</th>\n      <th>recall_oos</th>\n    </tr>\n  </thead>\n  <tbody>\n    <tr>\n      <th>21</th>\n      <td>RandomForestClassifier</td>\n      <td>bert</td>\n      <td>0.958647</td>\n    </tr>\n    <tr>\n      <th>48</th>\n      <td>RandomForestClassifier</td>\n      <td>ft</td>\n      <td>0.958647</td>\n    </tr>\n    <tr>\n      <th>39</th>\n      <td>RandomForestClassifier</td>\n      <td>glove</td>\n      <td>0.958647</td>\n    </tr>\n    <tr>\n      <th>30</th>\n      <td>RandomForestClassifier</td>\n      <td>gpt</td>\n      <td>0.962406</td>\n    </tr>\n    <tr>\n      <th>4</th>\n      <td>RandomForestClassifier</td>\n      <td>tfidf</td>\n      <td>0.954887</td>\n    </tr>\n    <tr>\n      <th>12</th>\n      <td>RandomForestClassifier</td>\n      <td>w2v</td>\n      <td>0.962406</td>\n    </tr>\n  </tbody>\n</table>\n</div>"
     },
     "execution_count": 36,
     "metadata": {},
     "output_type": "execute_result"
    }
   ],
   "source": [
    "best_models_com = result_combined.loc[result_combined.groupby('data')['recall_oos'].idxmax()]\n",
    "best_models_com[['model', 'data', 'recall_oos']]"
   ],
   "metadata": {
    "collapsed": false,
    "ExecuteTime": {
     "end_time": "2024-01-05T09:58:26.629873Z",
     "start_time": "2024-01-05T09:58:26.522975Z"
    }
   },
   "id": "157abfb8c8a8655a",
   "execution_count": 36
  },
  {
   "cell_type": "markdown",
   "source": [
    "The average 'accuracy_oos' for each type of embedding"
   ],
   "metadata": {
    "collapsed": false
   },
   "id": "ec31769c9d174e0"
  },
  {
   "cell_type": "code",
   "outputs": [],
   "source": [
    "average_performance_com = result_combined.groupby('data')['recall_oos'].mean().sort_values(ascending=False)"
   ],
   "metadata": {
    "collapsed": false,
    "ExecuteTime": {
     "end_time": "2024-01-05T09:53:44.386505Z",
     "start_time": "2024-01-05T09:53:44.376316Z"
    }
   },
   "id": "f5e79222335e8f9d",
   "execution_count": 30
  },
  {
   "cell_type": "code",
   "outputs": [
    {
     "name": "stdout",
     "output_type": "stream",
     "text": [
      "\n",
      "Average out-of-sample accuracy for each type of embedding on combined dataset:\n",
      "data\n",
      "bert     0.882623\n",
      "ft       0.866750\n",
      "glove    0.866332\n",
      "w2v      0.852548\n",
      "gpt      0.829574\n",
      "tfidf    0.820802\n",
      "Name: recall_oos, dtype: float64\n"
     ]
    }
   ],
   "source": [
    "print(\"\\nAverage out-of-sample accuracy for each type of embedding on combined dataset:\")\n",
    "print(average_performance_com)"
   ],
   "metadata": {
    "collapsed": false,
    "ExecuteTime": {
     "end_time": "2024-01-05T09:53:46.122205Z",
     "start_time": "2024-01-05T09:53:46.116443Z"
    }
   },
   "id": "bdf6e44939ef3a92",
   "execution_count": 31
  },
  {
   "cell_type": "code",
   "outputs": [],
   "source": [
    "average_performance_sep = results_seperate.groupby('data')['recall_oos'].mean().sort_values(ascending=False)"
   ],
   "metadata": {
    "collapsed": false,
    "ExecuteTime": {
     "end_time": "2024-01-05T09:53:54.860178Z",
     "start_time": "2024-01-05T09:53:54.812130Z"
    }
   },
   "id": "3634fd0abd04468f",
   "execution_count": 32
  },
  {
   "cell_type": "code",
   "outputs": [
    {
     "name": "stdout",
     "output_type": "stream",
     "text": [
      "\n",
      "Average out-of-sample recall for each type of embedding on sepe dataset:\n",
      "data\n",
      "glove    0.879699\n",
      "gpt      0.874269\n",
      "bert     0.872180\n",
      "ft       0.872180\n",
      "w2v      0.867168\n",
      "Name: recall_oos, dtype: float64\n"
     ]
    }
   ],
   "source": [
    "print(\"\\nAverage out-of-sample recall for each type of embedding on sepe dataset:\")\n",
    "print(average_performance_sep)"
   ],
   "metadata": {
    "collapsed": false,
    "ExecuteTime": {
     "end_time": "2024-01-05T09:53:59.681017Z",
     "start_time": "2024-01-05T09:53:59.590305Z"
    }
   },
   "id": "3b633c20642073a4",
   "execution_count": 33
  }
 ],
 "metadata": {
  "kernelspec": {
   "display_name": "Python 3",
   "language": "python",
   "name": "python3"
  },
  "language_info": {
   "codemirror_mode": {
    "name": "ipython",
    "version": 2
   },
   "file_extension": ".py",
   "mimetype": "text/x-python",
   "name": "python",
   "nbconvert_exporter": "python",
   "pygments_lexer": "ipython2",
   "version": "2.7.6"
  }
 },
 "nbformat": 4,
 "nbformat_minor": 5
}
